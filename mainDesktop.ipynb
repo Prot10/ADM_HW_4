{
 "cells": [
  {
   "cell_type": "markdown",
   "id": "9e9ed6dd-c0c3-458e-b7af-8dd59e05ad30",
   "metadata": {
    "tags": []
   },
   "source": [
    "# Homework 4 - Getting to know your customers\n",
    "\n",
    "Over time, the Banking sector has dabbled into plenty of Data Science applications. The latter includes topics such as Fraud detection, risk modelling for investment, personalized marketing, managing customer data and customer segmentation, among others. The latter is a crucial topic for a bank since they can offer their products more accurately and tailor-made depending on their clients' characteristics and how probable they will consume more services from the bank.\n",
    "\n",
    "Now, you and your team have been hired by a bank to get to know their customers. In other words, you will implement hashing and clustering techniques to extract relevant information and highlights from those clients and their transactions.\n",
    "\n",
    "Then, let's get started!\n",
    "\n",
    "## VERY VERY IMPORTANT!\n",
    "\n",
    "1. !!! Read the entire homework before coding anything!!! \n",
    "2. My solution is not better than yours, and yours is not better than mine. A data-driven analysis does not have a unique way of solving a problem. For this reason, it is crucial (necessary and mandatory) that you describe any single decision you take and all the steps you follow.\n",
    "3. Once performed any exercise, comments about the obtained results are mandatory. We are not always explicit about where to focus your comments, but we will always want brief sentences about your discoveries and decisions.\n",
    "\n",
    "### 1. Finding Similar Costumers\n",
    "\n",
    "Companies nowadays are implementing product suggestions to provide users with things they are likely to buy. The process often starts by finding similar behaviours among consumers; for this task, we will focus on this part in the specific.\n",
    "Here you will implement an algorithm to find the most similar match to a consumer given his bank account information. In particular, you will implement your version of the [LSH algorithm](https://www.learndatasci.com/tutorials/building-recommendation-engine-locality-sensitive-hashing-lsh-python/) that takes as input information about a consumer and finds people similar to the one in the study.\n",
    "\n",
    "#### 1.1 Set up the data\n",
    "\n",
    "1. To start working download the [banking dataset](https://www.kaggle.com/datasets/shivamb/bank-customer-segmentation) on Kaggle.\n",
    "2. For the sake of this first part, not all columns are necessary since comparing each field single handedly can be quite time-expensive. Then, carefully read the linked guide above and try to understand which features will be appropriate for this task (An heads up: some users have more than one transaction record, make sure to handle them all). Once you have finished, project a version of the dataset to work with.\n",
    "\n",
    "***"
   ]
  },
  {
   "cell_type": "code",
   "execution_count": 1,
   "id": "007b62c5-d9ca-4f27-88d3-4d3b82467da8",
   "metadata": {},
   "outputs": [],
   "source": [
    "import pandas as pd\n",
    "import numpy as np\n",
    "import math\n",
    "import pickle\n",
    "import random\n",
    "import seaborn as sns\n",
    "import time\n",
    "%matplotlib inline\n",
    "import matplotlib.pyplot as plt\n",
    "from datetime import datetime\n",
    "from collections import defaultdict\n",
    "from tqdm import tqdm\n",
    "from sklearn.utils import shuffle\n",
    "from sklearn.cluster import KMeans\n",
    "from yellowbrick.cluster import KElbowVisualizer\n",
    "from sklearn.metrics.cluster import adjusted_rand_score\n",
    "\n",
    "import os\n",
    "from sklearn.preprocessing import MinMaxScaler\n",
    "from sklearn.decomposition import PCA\n",
    "import scipy as sc\n",
    "from scipy.spatial.distance import cdist \n",
    "from scipy.spatial import distance\n",
    "import sklearn\n",
    "from sklearn.metrics import silhouette_score\n",
    "from sklearn import metrics\n",
    "import qwikidata\n",
    "import qwikidata.sparql\n",
    "import json\n",
    "from numpy.random import uniform\n",
    "from sklearn.datasets import make_blobs"
   ]
  },
  {
   "cell_type": "code",
   "execution_count": 2,
   "id": "8690a511-8f41-41a6-abc3-f35205da45fe",
   "metadata": {},
   "outputs": [],
   "source": [
    "# function that professor Galasso showed us in the laboratory to plot multiple dataframe togheter\n",
    "class display(object):\n",
    "    \"\"\"Display HTML representation of multiple objects\"\"\"\n",
    "    template = \"\"\"<div style=\"float: left; padding: 10px;\">\n",
    "    <p style='font-family:\"Courier New\", Courier, monospace'>{0}</p>{1}\n",
    "    </div>\"\"\"\n",
    "    def __init__(self, *args):\n",
    "        self.args = args\n",
    "        \n",
    "    def _repr_html_(self):\n",
    "        return '\\n'.join(self.template.format(a, eval(a)._repr_html_())\n",
    "                         for a in self.args)\n",
    "    \n",
    "    def __repr__(self):\n",
    "        return '\\n\\n'.join(a + '\\n' + repr(eval(a))\n",
    "                           for a in self.args)"
   ]
  },
  {
   "cell_type": "markdown",
   "id": "1169f60b-fd76-4fef-9bee-416fcc473bd1",
   "metadata": {},
   "source": [
    "Loading and preprocessing of the dataset"
   ]
  },
  {
   "cell_type": "code",
   "execution_count": 3,
   "id": "50ba7bd2-0658-4d4d-bd57-96fc4594f768",
   "metadata": {
    "tags": []
   },
   "outputs": [],
   "source": [
    "data = pd.read_csv('bank_transactions.csv')\n",
    "data.dropna(inplace=True)"
   ]
  },
  {
   "cell_type": "code",
   "execution_count": 4,
   "id": "659221f2-8c06-423f-82f9-042054708694",
   "metadata": {},
   "outputs": [],
   "source": [
    "# convert male-female into 0-1\n",
    "data.CustGender = np.where(data.CustGender=='M', 0, 1)\n",
    "\n",
    "# from date of birth we create a new column called generations that divides all the ages in 3 classes \n",
    "data.CustomerDOB = pd.to_datetime(data.CustomerDOB)\n",
    "data.loc[data.CustomerDOB.dt.year > 2000,'CustomerDOB'] = data.loc[data.CustomerDOB.dt.year > 2000,'CustomerDOB'] - pd.DateOffset(years=100)\n",
    "data.drop(data.loc[data.CustomerDOB.dt.year == 1800].index, axis=0, inplace=True)\n",
    "data['CustomerAge'] = ((pd.to_datetime('2016/06/15') - data.CustomerDOB)/np.timedelta64(1,'Y')).round(0)\n",
    "data['CustomerAge'] = data['CustomerAge'].astype(int)\n",
    "data['Generation'] = pd.cut(x=data.CustomerAge, bins=[0, 30, 60, 120], labels=[11, 12, 13])\n",
    "\n",
    "# create 100 classes trough quantiles for the variable 'CustAccountBalance'\n",
    "AccBal_quantiles = list(data.CustAccountBalance.quantile(np.linspace(.01, 1, 99, 0), 'lower'))\n",
    "AccBal_quantiles.insert(0, -math.inf)\n",
    "AccBal_quantiles.insert(100, math.inf)\n",
    "data['BalanceClass'] = pd.cut(x=data.CustAccountBalance, bins=AccBal_quantiles, \n",
    "                                  labels=list(range(101, 201)))\n",
    "\n",
    "# create 10 classes trough quantiles for the variable 'TransactionAmount (INR)'\n",
    "TransAmount_quantiles = list(data['TransactionAmount (INR)'].quantile(np.linspace(.01, 1, 9, 0), 'lower'))\n",
    "TransAmount_quantiles.insert(0, -math.inf)\n",
    "TransAmount_quantiles.insert(10, math.inf)\n",
    "data['TrAmClass'] = pd.cut(x=data['TransactionAmount (INR)'], bins=TransAmount_quantiles, \n",
    "                                  labels=list(range(1001, 1011)))"
   ]
  },
  {
   "cell_type": "code",
   "execution_count": 5,
   "id": "0c91ab72-97ea-4a62-b666-e675a7ad5157",
   "metadata": {},
   "outputs": [
    {
     "data": {
      "text/html": [
       "<div>\n",
       "<style scoped>\n",
       "    .dataframe tbody tr th:only-of-type {\n",
       "        vertical-align: middle;\n",
       "    }\n",
       "\n",
       "    .dataframe tbody tr th {\n",
       "        vertical-align: top;\n",
       "    }\n",
       "\n",
       "    .dataframe thead th {\n",
       "        text-align: right;\n",
       "    }\n",
       "</style>\n",
       "<table border=\"1\" class=\"dataframe\">\n",
       "  <thead>\n",
       "    <tr style=\"text-align: right;\">\n",
       "      <th></th>\n",
       "      <th>CustGender</th>\n",
       "      <th>Generation</th>\n",
       "      <th>BalanceClass</th>\n",
       "      <th>TrAmClass</th>\n",
       "    </tr>\n",
       "  </thead>\n",
       "  <tbody>\n",
       "    <tr>\n",
       "      <th>0</th>\n",
       "      <td>1</td>\n",
       "      <td>11</td>\n",
       "      <td>153</td>\n",
       "      <td>1002</td>\n",
       "    </tr>\n",
       "    <tr>\n",
       "      <th>1</th>\n",
       "      <td>0</td>\n",
       "      <td>12</td>\n",
       "      <td>118</td>\n",
       "      <td>1010</td>\n",
       "    </tr>\n",
       "    <tr>\n",
       "      <th>2</th>\n",
       "      <td>1</td>\n",
       "      <td>11</td>\n",
       "      <td>153</td>\n",
       "      <td>1006</td>\n",
       "    </tr>\n",
       "    <tr>\n",
       "      <th>3</th>\n",
       "      <td>1</td>\n",
       "      <td>12</td>\n",
       "      <td>199</td>\n",
       "      <td>1009</td>\n",
       "    </tr>\n",
       "    <tr>\n",
       "      <th>4</th>\n",
       "      <td>1</td>\n",
       "      <td>11</td>\n",
       "      <td>132</td>\n",
       "      <td>1009</td>\n",
       "    </tr>\n",
       "  </tbody>\n",
       "</table>\n",
       "</div>"
      ],
      "text/plain": [
       "   CustGender Generation BalanceClass TrAmClass\n",
       "0           1         11          153      1002\n",
       "1           0         12          118      1010\n",
       "2           1         11          153      1006\n",
       "3           1         12          199      1009\n",
       "4           1         11          132      1009"
      ]
     },
     "execution_count": 5,
     "metadata": {},
     "output_type": "execute_result"
    }
   ],
   "source": [
    "# create a subset with only the columns needed\n",
    "sub_data = data[['CustGender', 'Generation', 'BalanceClass', 'TrAmClass']].copy()\n",
    "sub_data.head()"
   ]
  },
  {
   "cell_type": "code",
   "execution_count": 5,
   "id": "25d4a1d2-95c6-498d-9e68-dfdbd428f953",
   "metadata": {},
   "outputs": [],
   "source": [
    "# to save as a file\n",
    "with open(\"sub_data.pkl\", \"wb\") as file:\n",
    "    pickle.dump(sub_data, file)"
   ]
  },
  {
   "cell_type": "code",
   "execution_count": null,
   "id": "33413402-7af9-4682-ab6d-1cc64fa87928",
   "metadata": {},
   "outputs": [],
   "source": [
    "with open(\"sub_data.pkl\", \"rb\") as file:\n",
    "    sub_data = pickle.load(file)"
   ]
  },
  {
   "cell_type": "markdown",
   "id": "0ef4fbcf-5b81-41da-8713-2a525de2c009",
   "metadata": {},
   "source": [
    "***\n",
    "\n",
    "#### 1.2 Fingerprint hashing\n",
    "\n",
    "Using the previously selected data with the features you found pertinent, you have to:\n",
    "\n",
    "1. Implement your minhash function from scratch. No ready-made hash functions are allowed. Read the class material and search the internet if you need to. For reference, it may be practical to look at the description of hash functions in the [book](http://infolab.stanford.edu/~ullman/mmds/ch3n.pdf).\n",
    "\n",
    "2. Process the dataset and add each record to the MinHash. The subtask's goal is to try and map each consumer to its bin; to ensure this works well, be sure you understand how MinHash works and choose a matching threshold to use. Before moving on, experiment with different thresholds, explaining your choice.\n",
    "\n",
    "***"
   ]
  },
  {
   "cell_type": "markdown",
   "id": "91631e3f-0b3c-4a87-bf9d-70abe6f64b35",
   "metadata": {},
   "source": [
    "Step 1: create the list of shingles (every class of every column)"
   ]
  },
  {
   "cell_type": "code",
   "execution_count": 6,
   "id": "32c43162-5bed-45b0-84b9-e886bdc486b5",
   "metadata": {},
   "outputs": [],
   "source": [
    "# initialize the list that will contain all the shingle\n",
    "shingles = []\n",
    "# goes trough all the column\n",
    "for col in sub_data:\n",
    "    # take all the unique values of that column\n",
    "    shingles.append(list(sub_data[col].unique()))\n",
    "# flatten the list\n",
    "tot_shingles = np.array([item for sublist in shingles for item in sublist])"
   ]
  },
  {
   "cell_type": "markdown",
   "id": "0f8fea0b-0804-4e13-b9d8-c1b92799750d",
   "metadata": {},
   "source": [
    "Step 2: define a function to create the dataframe (rows=shingles | columns=users) that will contain 1 if the user has that shingle and 0 otherwise"
   ]
  },
  {
   "cell_type": "code",
   "execution_count": 7,
   "id": "9e7052a0-dbab-4c23-92d6-7832026cd1e6",
   "metadata": {},
   "outputs": [],
   "source": [
    "def get_shingles_df(data):\n",
    "    # initialize the dictionary that will have the users as columns and the shingles as rows\n",
    "    feature_dict = defaultdict(list)\n",
    "\n",
    "    for row in range(len(data)):\n",
    "        user = np.array(data.iloc[row])\n",
    "        for shingle in tot_shingles:\n",
    "            if shingle in user:\n",
    "                feature_dict[row].append(1)\n",
    "            else:\n",
    "                feature_dict[row].append(0)\n",
    "                    \n",
    "    return pd.DataFrame.from_dict(feature_dict)"
   ]
  },
  {
   "cell_type": "code",
   "execution_count": 8,
   "id": "3bddad12-482a-424e-a827-d549f6805756",
   "metadata": {
    "tags": []
   },
   "outputs": [
    {
     "data": {
      "text/html": [
       "<div>\n",
       "<style scoped>\n",
       "    .dataframe tbody tr th:only-of-type {\n",
       "        vertical-align: middle;\n",
       "    }\n",
       "\n",
       "    .dataframe tbody tr th {\n",
       "        vertical-align: top;\n",
       "    }\n",
       "\n",
       "    .dataframe thead th {\n",
       "        text-align: right;\n",
       "    }\n",
       "</style>\n",
       "<table border=\"1\" class=\"dataframe\">\n",
       "  <thead>\n",
       "    <tr style=\"text-align: right;\">\n",
       "      <th></th>\n",
       "      <th>0</th>\n",
       "      <th>1</th>\n",
       "      <th>2</th>\n",
       "      <th>3</th>\n",
       "      <th>4</th>\n",
       "      <th>5</th>\n",
       "      <th>6</th>\n",
       "      <th>7</th>\n",
       "      <th>8</th>\n",
       "      <th>9</th>\n",
       "      <th>...</th>\n",
       "      <th>985312</th>\n",
       "      <th>985313</th>\n",
       "      <th>985314</th>\n",
       "      <th>985315</th>\n",
       "      <th>985316</th>\n",
       "      <th>985317</th>\n",
       "      <th>985318</th>\n",
       "      <th>985319</th>\n",
       "      <th>985320</th>\n",
       "      <th>985321</th>\n",
       "    </tr>\n",
       "  </thead>\n",
       "  <tbody>\n",
       "    <tr>\n",
       "      <th>0</th>\n",
       "      <td>1</td>\n",
       "      <td>0</td>\n",
       "      <td>1</td>\n",
       "      <td>1</td>\n",
       "      <td>1</td>\n",
       "      <td>1</td>\n",
       "      <td>1</td>\n",
       "      <td>0</td>\n",
       "      <td>1</td>\n",
       "      <td>0</td>\n",
       "      <td>...</td>\n",
       "      <td>1</td>\n",
       "      <td>1</td>\n",
       "      <td>0</td>\n",
       "      <td>0</td>\n",
       "      <td>0</td>\n",
       "      <td>0</td>\n",
       "      <td>0</td>\n",
       "      <td>0</td>\n",
       "      <td>0</td>\n",
       "      <td>0</td>\n",
       "    </tr>\n",
       "    <tr>\n",
       "      <th>1</th>\n",
       "      <td>0</td>\n",
       "      <td>1</td>\n",
       "      <td>0</td>\n",
       "      <td>0</td>\n",
       "      <td>0</td>\n",
       "      <td>0</td>\n",
       "      <td>0</td>\n",
       "      <td>1</td>\n",
       "      <td>0</td>\n",
       "      <td>1</td>\n",
       "      <td>...</td>\n",
       "      <td>0</td>\n",
       "      <td>0</td>\n",
       "      <td>1</td>\n",
       "      <td>1</td>\n",
       "      <td>1</td>\n",
       "      <td>1</td>\n",
       "      <td>1</td>\n",
       "      <td>1</td>\n",
       "      <td>1</td>\n",
       "      <td>1</td>\n",
       "    </tr>\n",
       "    <tr>\n",
       "      <th>2</th>\n",
       "      <td>1</td>\n",
       "      <td>0</td>\n",
       "      <td>1</td>\n",
       "      <td>0</td>\n",
       "      <td>1</td>\n",
       "      <td>0</td>\n",
       "      <td>1</td>\n",
       "      <td>0</td>\n",
       "      <td>1</td>\n",
       "      <td>0</td>\n",
       "      <td>...</td>\n",
       "      <td>0</td>\n",
       "      <td>1</td>\n",
       "      <td>1</td>\n",
       "      <td>0</td>\n",
       "      <td>1</td>\n",
       "      <td>1</td>\n",
       "      <td>1</td>\n",
       "      <td>1</td>\n",
       "      <td>0</td>\n",
       "      <td>0</td>\n",
       "    </tr>\n",
       "    <tr>\n",
       "      <th>3</th>\n",
       "      <td>0</td>\n",
       "      <td>1</td>\n",
       "      <td>0</td>\n",
       "      <td>1</td>\n",
       "      <td>0</td>\n",
       "      <td>1</td>\n",
       "      <td>0</td>\n",
       "      <td>1</td>\n",
       "      <td>0</td>\n",
       "      <td>1</td>\n",
       "      <td>...</td>\n",
       "      <td>1</td>\n",
       "      <td>0</td>\n",
       "      <td>0</td>\n",
       "      <td>1</td>\n",
       "      <td>0</td>\n",
       "      <td>0</td>\n",
       "      <td>0</td>\n",
       "      <td>0</td>\n",
       "      <td>1</td>\n",
       "      <td>1</td>\n",
       "    </tr>\n",
       "    <tr>\n",
       "      <th>4</th>\n",
       "      <td>0</td>\n",
       "      <td>0</td>\n",
       "      <td>0</td>\n",
       "      <td>0</td>\n",
       "      <td>0</td>\n",
       "      <td>0</td>\n",
       "      <td>0</td>\n",
       "      <td>0</td>\n",
       "      <td>0</td>\n",
       "      <td>0</td>\n",
       "      <td>...</td>\n",
       "      <td>0</td>\n",
       "      <td>0</td>\n",
       "      <td>0</td>\n",
       "      <td>0</td>\n",
       "      <td>0</td>\n",
       "      <td>0</td>\n",
       "      <td>0</td>\n",
       "      <td>0</td>\n",
       "      <td>0</td>\n",
       "      <td>0</td>\n",
       "    </tr>\n",
       "  </tbody>\n",
       "</table>\n",
       "<p>5 rows × 985322 columns</p>\n",
       "</div>"
      ],
      "text/plain": [
       "   0       1       2       3       4       5       6       7       8       \\\n",
       "0       1       0       1       1       1       1       1       0       1   \n",
       "1       0       1       0       0       0       0       0       1       0   \n",
       "2       1       0       1       0       1       0       1       0       1   \n",
       "3       0       1       0       1       0       1       0       1       0   \n",
       "4       0       0       0       0       0       0       0       0       0   \n",
       "\n",
       "   9       ...  985312  985313  985314  985315  985316  985317  985318  \\\n",
       "0       0  ...       1       1       0       0       0       0       0   \n",
       "1       1  ...       0       0       1       1       1       1       1   \n",
       "2       0  ...       0       1       1       0       1       1       1   \n",
       "3       1  ...       1       0       0       1       0       0       0   \n",
       "4       0  ...       0       0       0       0       0       0       0   \n",
       "\n",
       "   985319  985320  985321  \n",
       "0       0       0       0  \n",
       "1       1       1       1  \n",
       "2       1       0       0  \n",
       "3       0       1       1  \n",
       "4       0       0       0  \n",
       "\n",
       "[5 rows x 985322 columns]"
      ]
     },
     "execution_count": 8,
     "metadata": {},
     "output_type": "execute_result"
    }
   ],
   "source": [
    "shingles_df = get_shingles_df(sub_data)\n",
    "shingles_df.head()"
   ]
  },
  {
   "cell_type": "code",
   "execution_count": 12,
   "id": "324cff12-9ceb-4fa9-8907-196e7cad05b1",
   "metadata": {},
   "outputs": [],
   "source": [
    "# to save as a file\n",
    "with open(\"shingles_df.pkl\", \"wb\") as file:\n",
    "    pickle.dump(shingles_df, file)"
   ]
  },
  {
   "cell_type": "code",
   "execution_count": 5,
   "id": "ce55ab0a-198e-41d8-8218-7ecf8a175425",
   "metadata": {},
   "outputs": [],
   "source": [
    "with open(\"shingles_df.pkl\", \"rb\") as file:\n",
    "    shingles_df = pickle.load(file)"
   ]
  },
  {
   "cell_type": "markdown",
   "id": "72039310-ac37-4188-8491-2b66a7750a09",
   "metadata": {},
   "source": [
    "Step 3: define a function to create the signature matrix (rows=permutations | columns=users) that contains the position of the first non zero values "
   ]
  },
  {
   "cell_type": "code",
   "execution_count": 9,
   "id": "a835b3c4-250e-458e-bff7-be22905c55bb",
   "metadata": {},
   "outputs": [],
   "source": [
    "def get_signature_matrix(shingles_df, permutations):\n",
    "    # Creating the signature matrix\n",
    "    sig_mat_dict = dict()\n",
    "    seed = 123\n",
    "    for perm in range(permutations):\n",
    "        seed += 1\n",
    "        permuted_df = shuffle(shingles_df, random_state=seed)\n",
    "        sig_mat_dict[perm] = list(permuted_df.ne(0).idxmax()+1)\n",
    "        \n",
    "    return pd.DataFrame.from_dict(sig_mat_dict).transpose()"
   ]
  },
  {
   "cell_type": "code",
   "execution_count": 10,
   "id": "b420a7f8-6199-48c6-a7e3-4a4ae8615ded",
   "metadata": {},
   "outputs": [
    {
     "data": {
      "text/html": [
       "<div>\n",
       "<style scoped>\n",
       "    .dataframe tbody tr th:only-of-type {\n",
       "        vertical-align: middle;\n",
       "    }\n",
       "\n",
       "    .dataframe tbody tr th {\n",
       "        vertical-align: top;\n",
       "    }\n",
       "\n",
       "    .dataframe thead th {\n",
       "        text-align: right;\n",
       "    }\n",
       "</style>\n",
       "<table border=\"1\" class=\"dataframe\">\n",
       "  <thead>\n",
       "    <tr style=\"text-align: right;\">\n",
       "      <th></th>\n",
       "      <th>0</th>\n",
       "      <th>1</th>\n",
       "      <th>2</th>\n",
       "      <th>3</th>\n",
       "      <th>4</th>\n",
       "      <th>5</th>\n",
       "      <th>6</th>\n",
       "      <th>7</th>\n",
       "      <th>8</th>\n",
       "      <th>9</th>\n",
       "      <th>...</th>\n",
       "      <th>985312</th>\n",
       "      <th>985313</th>\n",
       "      <th>985314</th>\n",
       "      <th>985315</th>\n",
       "      <th>985316</th>\n",
       "      <th>985317</th>\n",
       "      <th>985318</th>\n",
       "      <th>985319</th>\n",
       "      <th>985320</th>\n",
       "      <th>985321</th>\n",
       "    </tr>\n",
       "  </thead>\n",
       "  <tbody>\n",
       "    <tr>\n",
       "      <th>0</th>\n",
       "      <td>6</td>\n",
       "      <td>2</td>\n",
       "      <td>6</td>\n",
       "      <td>4</td>\n",
       "      <td>1</td>\n",
       "      <td>4</td>\n",
       "      <td>11</td>\n",
       "      <td>2</td>\n",
       "      <td>1</td>\n",
       "      <td>2</td>\n",
       "      <td>...</td>\n",
       "      <td>4</td>\n",
       "      <td>1</td>\n",
       "      <td>2</td>\n",
       "      <td>2</td>\n",
       "      <td>2</td>\n",
       "      <td>2</td>\n",
       "      <td>2</td>\n",
       "      <td>2</td>\n",
       "      <td>2</td>\n",
       "      <td>2</td>\n",
       "    </tr>\n",
       "    <tr>\n",
       "      <th>1</th>\n",
       "      <td>106</td>\n",
       "      <td>7</td>\n",
       "      <td>3</td>\n",
       "      <td>8</td>\n",
       "      <td>3</td>\n",
       "      <td>110</td>\n",
       "      <td>3</td>\n",
       "      <td>111</td>\n",
       "      <td>3</td>\n",
       "      <td>14</td>\n",
       "      <td>...</td>\n",
       "      <td>22</td>\n",
       "      <td>3</td>\n",
       "      <td>63</td>\n",
       "      <td>2</td>\n",
       "      <td>3</td>\n",
       "      <td>3</td>\n",
       "      <td>3</td>\n",
       "      <td>3</td>\n",
       "      <td>2</td>\n",
       "      <td>2</td>\n",
       "    </tr>\n",
       "    <tr>\n",
       "      <th>2</th>\n",
       "      <td>1</td>\n",
       "      <td>107</td>\n",
       "      <td>1</td>\n",
       "      <td>1</td>\n",
       "      <td>1</td>\n",
       "      <td>1</td>\n",
       "      <td>1</td>\n",
       "      <td>12</td>\n",
       "      <td>1</td>\n",
       "      <td>113</td>\n",
       "      <td>...</td>\n",
       "      <td>1</td>\n",
       "      <td>1</td>\n",
       "      <td>110</td>\n",
       "      <td>107</td>\n",
       "      <td>3</td>\n",
       "      <td>102</td>\n",
       "      <td>3</td>\n",
       "      <td>110</td>\n",
       "      <td>19</td>\n",
       "      <td>68</td>\n",
       "    </tr>\n",
       "    <tr>\n",
       "      <th>3</th>\n",
       "      <td>6</td>\n",
       "      <td>7</td>\n",
       "      <td>6</td>\n",
       "      <td>8</td>\n",
       "      <td>3</td>\n",
       "      <td>4</td>\n",
       "      <td>11</td>\n",
       "      <td>111</td>\n",
       "      <td>3</td>\n",
       "      <td>113</td>\n",
       "      <td>...</td>\n",
       "      <td>22</td>\n",
       "      <td>3</td>\n",
       "      <td>2</td>\n",
       "      <td>2</td>\n",
       "      <td>2</td>\n",
       "      <td>102</td>\n",
       "      <td>48</td>\n",
       "      <td>2</td>\n",
       "      <td>2</td>\n",
       "      <td>2</td>\n",
       "    </tr>\n",
       "    <tr>\n",
       "      <th>4</th>\n",
       "      <td>106</td>\n",
       "      <td>7</td>\n",
       "      <td>6</td>\n",
       "      <td>4</td>\n",
       "      <td>9</td>\n",
       "      <td>110</td>\n",
       "      <td>110</td>\n",
       "      <td>12</td>\n",
       "      <td>3</td>\n",
       "      <td>14</td>\n",
       "      <td>...</td>\n",
       "      <td>110</td>\n",
       "      <td>3</td>\n",
       "      <td>63</td>\n",
       "      <td>89</td>\n",
       "      <td>3</td>\n",
       "      <td>110</td>\n",
       "      <td>3</td>\n",
       "      <td>110</td>\n",
       "      <td>19</td>\n",
       "      <td>68</td>\n",
       "    </tr>\n",
       "  </tbody>\n",
       "</table>\n",
       "<p>5 rows × 985322 columns</p>\n",
       "</div>"
      ],
      "text/plain": [
       "   0       1       2       3       4       5       6       7       8       \\\n",
       "0       6       2       6       4       1       4      11       2       1   \n",
       "1     106       7       3       8       3     110       3     111       3   \n",
       "2       1     107       1       1       1       1       1      12       1   \n",
       "3       6       7       6       8       3       4      11     111       3   \n",
       "4     106       7       6       4       9     110     110      12       3   \n",
       "\n",
       "   9       ...  985312  985313  985314  985315  985316  985317  985318  \\\n",
       "0       2  ...       4       1       2       2       2       2       2   \n",
       "1      14  ...      22       3      63       2       3       3       3   \n",
       "2     113  ...       1       1     110     107       3     102       3   \n",
       "3     113  ...      22       3       2       2       2     102      48   \n",
       "4      14  ...     110       3      63      89       3     110       3   \n",
       "\n",
       "   985319  985320  985321  \n",
       "0       2       2       2  \n",
       "1       3       2       2  \n",
       "2     110      19      68  \n",
       "3       2       2       2  \n",
       "4     110      19      68  \n",
       "\n",
       "[5 rows x 985322 columns]"
      ]
     },
     "execution_count": 10,
     "metadata": {},
     "output_type": "execute_result"
    }
   ],
   "source": [
    "n_permutations = 64\n",
    "signature_matrix = get_signature_matrix(shingles_df, n_permutations)\n",
    "signature_matrix.head()"
   ]
  },
  {
   "cell_type": "code",
   "execution_count": 16,
   "id": "910b2417-b726-43b1-b50b-130955d8372e",
   "metadata": {},
   "outputs": [],
   "source": [
    "# to save as a file\n",
    "with open(\"signature_matrix.pkl\", \"wb\") as file:\n",
    "    pickle.dump(signature_matrix, file)"
   ]
  },
  {
   "cell_type": "code",
   "execution_count": 6,
   "id": "a051dbb0-a6de-4360-99c9-ab78e663c71e",
   "metadata": {},
   "outputs": [],
   "source": [
    "with open(\"signature_matrix.pkl\", \"rb\") as file:\n",
    "    signature_matrix = pickle.load(file)"
   ]
  },
  {
   "cell_type": "markdown",
   "id": "5185ca5f-ecfe-4a06-9417-99562aa31b6d",
   "metadata": {},
   "source": [
    "Step 4: define an hashing function (not necessary)"
   ]
  },
  {
   "cell_type": "code",
   "execution_count": 11,
   "id": "1f179ec8-d1f2-4748-982a-8ca95ef27008",
   "metadata": {},
   "outputs": [],
   "source": [
    "# creating my hash function\n",
    "def my_hash(key, length):\n",
    "    random.seed(123)\n",
    "    alpha = random.sample(range(1000000), length)\n",
    "    beta = random.sample(range(1000000), length)\n",
    "    return np.dot(alpha*np.array(key), beta)%1000003"
   ]
  },
  {
   "cell_type": "markdown",
   "id": "9f14a21f-d723-4c4b-8101-eb38bffa56ea",
   "metadata": {},
   "source": [
    "Step 5: define a function to assign every user to a bucket"
   ]
  },
  {
   "cell_type": "code",
   "execution_count": 12,
   "id": "c434e1d3-3a56-47e4-b5de-cdf8779fb6ab",
   "metadata": {},
   "outputs": [],
   "source": [
    "# create a function that given the signature matrix and the number of bands return the buckets\n",
    "def assign_buckets(sig_matrix, permutations, n_bands):\n",
    "    # how many rows to consider\n",
    "    rows = int(permutations / n_bands)\n",
    "    # initialize the dict for the buckets\n",
    "    bucks = dict()\n",
    "    # goes trough every users\n",
    "    for col in sig_matrix:\n",
    "        # goes trough chunks of shingles\n",
    "        for i in range(0, len(sig_matrix), rows):\n",
    "            # create the keys for the buckets\n",
    "            bucket_hash = my_hash(tuple(sig_matrix[col].iloc[i : i + rows]), rows)\n",
    "            # if the key is already in the dict we only add the column otherwise we create a 'new entry'\n",
    "            if bucket_hash in bucks:\n",
    "                bucks[bucket_hash].add(col)\n",
    "            else:\n",
    "                bucks[bucket_hash] = {col}\n",
    "    return bucks"
   ]
  },
  {
   "cell_type": "markdown",
   "id": "50c0e560-826c-4fdc-9849-111f8804e5ca",
   "metadata": {},
   "source": [
    "Step 6: try with different bands in order to choose the best one"
   ]
  },
  {
   "cell_type": "code",
   "execution_count": 12,
   "id": "ef73dc14-9b1d-42aa-a890-0de486b202aa",
   "metadata": {},
   "outputs": [
    {
     "name": "stderr",
     "output_type": "stream",
     "text": [
      "985322it [05:26, 3014.90it/s]         \n"
     ]
    },
    {
     "name": "stdout",
     "output_type": "stream",
     "text": [
      "With band length equal to 2 --> 11253 different buckets have been created\n",
      "With band length equal to 2 --> The average length of the buckets is: 175.12\n"
     ]
    },
    {
     "name": "stderr",
     "output_type": "stream",
     "text": [
      "985322it [07:42, 2129.66it/s]         \n"
     ]
    },
    {
     "name": "stdout",
     "output_type": "stream",
     "text": [
      "With band length equal to 4 --> 22218 different buckets have been created\n",
      "With band length equal to 4 --> The average length of the buckets is: 177.39\n"
     ]
    },
    {
     "name": "stderr",
     "output_type": "stream",
     "text": [
      "985322it [13:28, 1218.18it/s]         \n"
     ]
    },
    {
     "name": "stdout",
     "output_type": "stream",
     "text": [
      "With band length equal to 8 --> 38181 different buckets have been created\n",
      "With band length equal to 8 --> The average length of the buckets is: 206.45\n"
     ]
    },
    {
     "name": "stderr",
     "output_type": "stream",
     "text": [
      "985322it [24:12, 678.50it/s]                    \n"
     ]
    },
    {
     "name": "stdout",
     "output_type": "stream",
     "text": [
      "With band length equal to 16 --> 33820 different buckets have been created\n",
      "With band length equal to 16 --> The average length of the buckets is: 454.53\n"
     ]
    }
   ],
   "source": [
    "bands_list = [2, 4, 8, 16]\n",
    "\n",
    "for band in bands_list:\n",
    "    buckets = assign_buckets(signature_matrix, n_permutations, band)\n",
    "    buckets_len = []\n",
    "    for key in buckets.keys():\n",
    "        buckets_len.append(len(buckets[key]))\n",
    "    print(f'With band length equal to {band} --> {len(buckets)} different buckets have been created')\n",
    "    print(f'With band length equal to {band} --> The average length of the buckets is: {round(np.mean(buckets_len), 2)}')"
   ]
  },
  {
   "cell_type": "code",
   "execution_count": 14,
   "id": "a401bc84-d58e-4b15-ac27-dcb7ecc56477",
   "metadata": {},
   "outputs": [
    {
     "data": {
      "image/png": "[encoded data removed]",
      "text/plain": [
       "<Figure size 1296x432 with 3 Axes>"
      ]
     },
     "metadata": {
      "needs_background": "light"
     },
     "output_type": "display_data"
    }
   ],
   "source": [
    "time_list = [5, 8, 13, 24]\n",
    "buckets_number = [11253, 22218, 38181, 33820]\n",
    "buckets_length = [175, 177, 206, 455]\n",
    "\n",
    "plt.figure(1, figsize=(18,6))\n",
    "\n",
    "color1 = sns.color_palette(\"pastel\")[0]\n",
    "\n",
    "with plt.style.context(\"seaborn-white\"):\n",
    "    plt.rcParams[\"axes.grid\"] = True\n",
    "    plt.subplot(1, 3, 1)\n",
    "    a = sns.lineplot(x=bands_list, y=buckets_number, color=color1, linewidth=3)\n",
    "    plt.title(\"Number of buckets\\nfor different bands\", fontsize='15', fontweight=\"bold\")\n",
    "    plt.xlabel(\"Number of Bands\")\n",
    "    plt.ylabel(\"Buckets\")\n",
    "\n",
    "with plt.style.context(\"seaborn-white\"):\n",
    "    plt.rcParams[\"axes.grid\"] = True\n",
    "    plt.subplot(1, 3, 2)\n",
    "    b = sns.lineplot(x=bands_list, y=buckets_length, color=color1, linewidth=3)\n",
    "    plt.title('Average size of the bucket\\nfor different bands', fontsize='15', fontweight=\"bold\")\n",
    "    plt.xlabel(\"Number of Bands\")\n",
    "    plt.ylabel('Size')\n",
    "\n",
    "with plt.style.context(\"seaborn-white\"):\n",
    "    plt.rcParams[\"axes.grid\"] = True\n",
    "    plt.subplot(1, 3, 3)\n",
    "    c = sns.lineplot(x=bands_list, y=time_list, color=color1, linewidth=3)\n",
    "    plt.title('Time taken to create the buckets\\nfor different bands', fontsize='15', fontweight=\"bold\")\n",
    "    plt.xlabel(\"Number of Bands\")\n",
    "    plt.ylabel('Time')\n",
    "\n",
    "plt.show()"
   ]
  },
  {
   "cell_type": "markdown",
   "id": "0e67703e-b678-41b8-870b-44c7e684696b",
   "metadata": {},
   "source": [
    "The best choice is to set n_bands equal to: 8"
   ]
  },
  {
   "cell_type": "code",
   "execution_count": 13,
   "id": "4d3560bf-1fa5-47e0-847c-e96688f268c0",
   "metadata": {},
   "outputs": [],
   "source": [
    "n_bands = 8\n",
    "buckets = assign_buckets(signature_matrix, n_permutations, n_bands)"
   ]
  },
  {
   "cell_type": "code",
   "execution_count": 31,
   "id": "4bb0f7f1-15b2-4294-b746-5b1929b6709e",
   "metadata": {},
   "outputs": [],
   "source": [
    "# to save as a file\n",
    "with open(\"buckets.pkl\", \"wb\") as file:\n",
    "    pickle.dump(buckets, file)"
   ]
  },
  {
   "cell_type": "code",
   "execution_count": 47,
   "id": "ce4fa386-972d-4162-b919-28459fb5d373",
   "metadata": {},
   "outputs": [],
   "source": [
    "with open(\"buckets.pkl\", \"rb\") as file:\n",
    "    buckets = pickle.load(file)"
   ]
  },
  {
   "cell_type": "markdown",
   "id": "4ce0fff1-1d8d-439b-a1e0-1751e8ea0c1c",
   "metadata": {},
   "source": [
    "***\n",
    "\n",
    "#### 1.3 Locality Sensitive Hashing\n",
    "\n",
    "Now that you prepared your algorithm, it's query time!\n",
    "We have prepared some dummy users for you to work with.\n",
    "\n",
    "Download [this csv](https://drive.google.com/file/d/1ob7l9vuujfy8cSNWlpt1shcHWXeLHxPs/view?usp=sharing) and report the most similar users (comparing them against the dataset provided in Kaggle).\n",
    "Did your hashing method work properly, what scores have you obtained and how long did it take to run? Provide information and analysis about the results.\n",
    "\n",
    "***"
   ]
  },
  {
   "cell_type": "markdown",
   "id": "910a8248-b7d8-40de-8145-56f4555c8f1d",
   "metadata": {},
   "source": [
    "Loading and preprocessing the query dataset"
   ]
  },
  {
   "cell_type": "code",
   "execution_count": 14,
   "id": "7427f964-7274-4d41-a784-fa1034631d6b",
   "metadata": {},
   "outputs": [],
   "source": [
    "query = pd.read_csv('query_users.csv')\n",
    "query.dropna(inplace=True)"
   ]
  },
  {
   "cell_type": "code",
   "execution_count": 15,
   "id": "0690f589-1921-4fa2-b043-bfed67bb5891",
   "metadata": {},
   "outputs": [],
   "source": [
    "# all the transformations done before for the dataset\n",
    "\n",
    "query.CustomerDOB = pd.to_datetime(query.CustomerDOB)\n",
    "query.loc[query.CustomerDOB.dt.year > 2000,'CustomerDOB'] = query.loc[query.CustomerDOB.dt.year > 2000,'CustomerDOB'] - pd.DateOffset(years=100)\n",
    "query.drop(query.loc[query.CustomerDOB.dt.year == 1800].index, axis=0, inplace=True)\n",
    "\n",
    "query.CustGender = np.where(query.CustGender=='M', 0, 1)\n",
    "\n",
    "query['CustomerAge'] = ((pd.to_datetime('2016/06/15') - query.CustomerDOB)/np.timedelta64(1,'Y')).round(0)\n",
    "query['CustomerAge'] = query['CustomerAge'].astype(int)\n",
    "\n",
    "query['Generation'] = pd.cut(x=query.CustomerAge, bins=[0, 30, 60, 120], labels=[11, 12, 13])\n",
    "\n",
    "query['BalanceClass'] = pd.cut(x=query.CustAccountBalance, bins=AccBal_quantiles, \n",
    "                                  labels=list(range(101, 201)))\n",
    "\n",
    "query['TrAmClass'] = pd.cut(x=query['TransactionAmount (INR)'], bins=TransAmount_quantiles, \n",
    "                                  labels=list(range(1001, 1011)))"
   ]
  },
  {
   "cell_type": "code",
   "execution_count": 16,
   "id": "92f4f5c3-472a-4da9-a19c-32484a4914d2",
   "metadata": {},
   "outputs": [
    {
     "data": {
      "text/html": [
       "<div>\n",
       "<style scoped>\n",
       "    .dataframe tbody tr th:only-of-type {\n",
       "        vertical-align: middle;\n",
       "    }\n",
       "\n",
       "    .dataframe tbody tr th {\n",
       "        vertical-align: top;\n",
       "    }\n",
       "\n",
       "    .dataframe thead th {\n",
       "        text-align: right;\n",
       "    }\n",
       "</style>\n",
       "<table border=\"1\" class=\"dataframe\">\n",
       "  <thead>\n",
       "    <tr style=\"text-align: right;\">\n",
       "      <th></th>\n",
       "      <th>CustGender</th>\n",
       "      <th>Generation</th>\n",
       "      <th>BalanceClass</th>\n",
       "      <th>TrAmClass</th>\n",
       "    </tr>\n",
       "  </thead>\n",
       "  <tbody>\n",
       "    <tr>\n",
       "      <th>0</th>\n",
       "      <td>0</td>\n",
       "      <td>12</td>\n",
       "      <td>184</td>\n",
       "      <td>1003</td>\n",
       "    </tr>\n",
       "    <tr>\n",
       "      <th>1</th>\n",
       "      <td>0</td>\n",
       "      <td>11</td>\n",
       "      <td>134</td>\n",
       "      <td>1010</td>\n",
       "    </tr>\n",
       "    <tr>\n",
       "      <th>2</th>\n",
       "      <td>0</td>\n",
       "      <td>11</td>\n",
       "      <td>133</td>\n",
       "      <td>1007</td>\n",
       "    </tr>\n",
       "    <tr>\n",
       "      <th>3</th>\n",
       "      <td>0</td>\n",
       "      <td>11</td>\n",
       "      <td>176</td>\n",
       "      <td>1008</td>\n",
       "    </tr>\n",
       "    <tr>\n",
       "      <th>4</th>\n",
       "      <td>0</td>\n",
       "      <td>11</td>\n",
       "      <td>182</td>\n",
       "      <td>1003</td>\n",
       "    </tr>\n",
       "  </tbody>\n",
       "</table>\n",
       "</div>"
      ],
      "text/plain": [
       "   CustGender Generation BalanceClass TrAmClass\n",
       "0           0         12          184      1003\n",
       "1           0         11          134      1010\n",
       "2           0         11          133      1007\n",
       "3           0         11          176      1008\n",
       "4           0         11          182      1003"
      ]
     },
     "execution_count": 16,
     "metadata": {},
     "output_type": "execute_result"
    }
   ],
   "source": [
    "# creating a subset of the query with only the features needed\n",
    "sub_query = query[['CustGender', 'Generation', 'BalanceClass', 'TrAmClass']].copy()\n",
    "sub_query.head()"
   ]
  },
  {
   "cell_type": "markdown",
   "id": "36bb5b85-52cc-44c6-b588-15aa4a253ad9",
   "metadata": {},
   "source": [
    "***\n",
    "\n",
    "Now we want to apply all the steps excecuted before and we want to check if the queries will end up in the buckets generated earlier for the users of the main dataset."
   ]
  },
  {
   "cell_type": "code",
   "execution_count": 18,
   "id": "a107b8f7-8104-43ec-904b-7f041cb251b1",
   "metadata": {},
   "outputs": [
    {
     "data": {
      "text/plain": [
       "1.0"
      ]
     },
     "execution_count": 18,
     "metadata": {},
     "output_type": "execute_result"
    }
   ],
   "source": [
    "# apply all the functions created earlier for each user of the query\n",
    "q_user_buckets = dict()\n",
    "for row in range(len(sub_query)):\n",
    "    query_user = sub_query.iloc[row:row+1]\n",
    "    query_shingles_matrix = get_shingles_df(query_user)\n",
    "    query_sig_matrix = get_signature_matrix(query_shingles_matrix, n_permutations)\n",
    "    query_buckets = assign_buckets(query_sig_matrix, n_permutations, n_bands)\n",
    "    q_user_buckets[row] = list(query_buckets.keys())\n",
    "# check the proportion of permutations of the query that went in an existing bucket\n",
    "found = []\n",
    "for q_keys in list(q_user_buckets.keys()):\n",
    "    for q_val in list(q_user_buckets[q_keys]):\n",
    "        try:\n",
    "            buckets[q_val]\n",
    "            found.append(1)\n",
    "        except:\n",
    "            found.append(0)\n",
    "np.mean(found)"
   ]
  },
  {
   "cell_type": "markdown",
   "id": "03cba415-9f4c-4c71-8ab3-e1c4c3622a93",
   "metadata": {},
   "source": [
    "We get 1, that means that every permutations applied to every query users ended up in a already existing bucket. That is a good thing because it suggests that our algorithm does what it is supposed to do.\n",
    "\n",
    "***\n",
    "\n",
    "Let's now define two functions, the first one to calculate the Jaccard Similarity, the second one to return the top n similar users to the one given as a query. To order the results we will use the Jaccard Similarity applied only to the users that belongs to the buckets where our query will end up.\n",
    "\n",
    "Jaccard Similarity:\n",
    "\n",
    "$$ J(A,B) = \\frac{A \\cap B}{A \\cup B} $$"
   ]
  },
  {
   "cell_type": "code",
   "execution_count": 19,
   "id": "c740c436-3d02-4fb4-99dd-c5ff44e72406",
   "metadata": {},
   "outputs": [],
   "source": [
    "# define the jaccard similarity function \n",
    "def jaccard(x, y):\n",
    "    inters = set(x).intersection(set(y))\n",
    "    return float(len(inters))/(len(x)+len(y)-len(inters))"
   ]
  },
  {
   "cell_type": "code",
   "execution_count": 20,
   "id": "11f9e721-aa9a-47c3-ac44-0941c5b62ceb",
   "metadata": {},
   "outputs": [],
   "source": [
    "# define a function that takes as input the index of the query user and return the top n similar user of the dataset\n",
    "def find_similar(user, n):\n",
    "    similar_users = defaultdict(list)\n",
    "    similar_buckets = q_user_buckets[user]\n",
    "    for bucket in similar_buckets:\n",
    "        similar_users[user].append(list(buckets[bucket]))\n",
    "    similar_users[user] = set(np.array([item for sublist in similar_users[user] for item in sublist]))\n",
    "    user_similarity = dict()\n",
    "    for user_found in similar_users[user]:\n",
    "        user_similarity[user_found] = jaccard(sub_query.iloc[user], sub_data.iloc[user_found])\n",
    "    sorted_score = dict(sorted(user_similarity.items(), key=lambda item: item[1], reverse=True))\n",
    "    indexes = list(sorted_score.keys())\n",
    "    similarities = []\n",
    "    for i in range(n):\n",
    "        similarities.append(sorted_score[indexes[i]])\n",
    "        to_add = sub_data.iloc[indexes[i]:indexes[i]+1]\n",
    "        if i > 0:\n",
    "            out = pd.concat([out, to_add])\n",
    "        else:\n",
    "            out = to_add\n",
    "    out['Similarity'] = similarities\n",
    "    \n",
    "    return out"
   ]
  },
  {
   "cell_type": "markdown",
   "id": "02cef6e7-9c39-4f6b-acdd-d8a94880b36e",
   "metadata": {},
   "source": [
    "***\n",
    "\n",
    "Let's try our function for different queries and different n to check if it really returns similar users.\n",
    "\n",
    "- Example 1:"
   ]
  },
  {
   "cell_type": "code",
   "execution_count": 31,
   "id": "1dba97dc-ab12-45a1-afea-36c3bce088f3",
   "metadata": {
    "tags": []
   },
   "outputs": [
    {
     "data": {
      "text/html": [
       "<div style=\"float: left; padding: 10px;\">\n",
       "    <p style='font-family:\"Courier New\", Courier, monospace'>query_submitted</p><div>\n",
       "<style scoped>\n",
       "    .dataframe tbody tr th:only-of-type {\n",
       "        vertical-align: middle;\n",
       "    }\n",
       "\n",
       "    .dataframe tbody tr th {\n",
       "        vertical-align: top;\n",
       "    }\n",
       "\n",
       "    .dataframe thead th {\n",
       "        text-align: right;\n",
       "    }\n",
       "</style>\n",
       "<table border=\"1\" class=\"dataframe\">\n",
       "  <thead>\n",
       "    <tr style=\"text-align: right;\">\n",
       "      <th></th>\n",
       "      <th>CustGender</th>\n",
       "      <th>Generation</th>\n",
       "      <th>BalanceClass</th>\n",
       "      <th>TrAmClass</th>\n",
       "    </tr>\n",
       "  </thead>\n",
       "  <tbody>\n",
       "    <tr>\n",
       "      <th>0</th>\n",
       "      <td>0</td>\n",
       "      <td>12</td>\n",
       "      <td>184</td>\n",
       "      <td>1003</td>\n",
       "    </tr>\n",
       "  </tbody>\n",
       "</table>\n",
       "</div>\n",
       "    </div>\n",
       "<div style=\"float: left; padding: 10px;\">\n",
       "    <p style='font-family:\"Courier New\", Courier, monospace'>similar_user_to_q</p><div>\n",
       "<style scoped>\n",
       "    .dataframe tbody tr th:only-of-type {\n",
       "        vertical-align: middle;\n",
       "    }\n",
       "\n",
       "    .dataframe tbody tr th {\n",
       "        vertical-align: top;\n",
       "    }\n",
       "\n",
       "    .dataframe thead th {\n",
       "        text-align: right;\n",
       "    }\n",
       "</style>\n",
       "<table border=\"1\" class=\"dataframe\">\n",
       "  <thead>\n",
       "    <tr style=\"text-align: right;\">\n",
       "      <th></th>\n",
       "      <th>CustGender</th>\n",
       "      <th>Generation</th>\n",
       "      <th>BalanceClass</th>\n",
       "      <th>TrAmClass</th>\n",
       "      <th>Similarity</th>\n",
       "    </tr>\n",
       "  </thead>\n",
       "  <tbody>\n",
       "    <tr>\n",
       "      <th>235707</th>\n",
       "      <td>0</td>\n",
       "      <td>12</td>\n",
       "      <td>184</td>\n",
       "      <td>1003</td>\n",
       "      <td>1.0</td>\n",
       "    </tr>\n",
       "    <tr>\n",
       "      <th>166035</th>\n",
       "      <td>0</td>\n",
       "      <td>12</td>\n",
       "      <td>184</td>\n",
       "      <td>1003</td>\n",
       "      <td>1.0</td>\n",
       "    </tr>\n",
       "    <tr>\n",
       "      <th>655058</th>\n",
       "      <td>0</td>\n",
       "      <td>12</td>\n",
       "      <td>184</td>\n",
       "      <td>1003</td>\n",
       "      <td>1.0</td>\n",
       "    </tr>\n",
       "  </tbody>\n",
       "</table>\n",
       "</div>\n",
       "    </div>"
      ],
      "text/plain": [
       "query_submitted\n",
       "   CustGender Generation BalanceClass TrAmClass\n",
       "0           0         12          184      1003\n",
       "\n",
       "similar_user_to_q\n",
       "        CustGender Generation BalanceClass TrAmClass  Similarity\n",
       "235707           0         12          184      1003         1.0\n",
       "166035           0         12          184      1003         1.0\n",
       "655058           0         12          184      1003         1.0"
      ]
     },
     "execution_count": 31,
     "metadata": {},
     "output_type": "execute_result"
    }
   ],
   "source": [
    "user_query = 0\n",
    "n = 3\n",
    "similar_user_to_q = find_similar(user_query, n)\n",
    "query_submitted = sub_query[user_query:user_query+1]\n",
    "display('query_submitted', 'similar_user_to_q')"
   ]
  },
  {
   "cell_type": "markdown",
   "id": "c4c33b33-9562-48ec-b50b-fbf1a862dc9b",
   "metadata": {},
   "source": [
    "***\n",
    "- Example 2:"
   ]
  },
  {
   "cell_type": "code",
   "execution_count": 30,
   "id": "5ea6211a-b083-4aa5-be68-41ba9905bd3a",
   "metadata": {},
   "outputs": [
    {
     "data": {
      "text/html": [
       "<div style=\"float: left; padding: 10px;\">\n",
       "    <p style='font-family:\"Courier New\", Courier, monospace'>query_submitted</p><div>\n",
       "<style scoped>\n",
       "    .dataframe tbody tr th:only-of-type {\n",
       "        vertical-align: middle;\n",
       "    }\n",
       "\n",
       "    .dataframe tbody tr th {\n",
       "        vertical-align: top;\n",
       "    }\n",
       "\n",
       "    .dataframe thead th {\n",
       "        text-align: right;\n",
       "    }\n",
       "</style>\n",
       "<table border=\"1\" class=\"dataframe\">\n",
       "  <thead>\n",
       "    <tr style=\"text-align: right;\">\n",
       "      <th></th>\n",
       "      <th>CustGender</th>\n",
       "      <th>Generation</th>\n",
       "      <th>BalanceClass</th>\n",
       "      <th>TrAmClass</th>\n",
       "    </tr>\n",
       "  </thead>\n",
       "  <tbody>\n",
       "    <tr>\n",
       "      <th>10</th>\n",
       "      <td>0</td>\n",
       "      <td>11</td>\n",
       "      <td>130</td>\n",
       "      <td>1005</td>\n",
       "    </tr>\n",
       "  </tbody>\n",
       "</table>\n",
       "</div>\n",
       "    </div>\n",
       "<div style=\"float: left; padding: 10px;\">\n",
       "    <p style='font-family:\"Courier New\", Courier, monospace'>similar_user_to_q</p><div>\n",
       "<style scoped>\n",
       "    .dataframe tbody tr th:only-of-type {\n",
       "        vertical-align: middle;\n",
       "    }\n",
       "\n",
       "    .dataframe tbody tr th {\n",
       "        vertical-align: top;\n",
       "    }\n",
       "\n",
       "    .dataframe thead th {\n",
       "        text-align: right;\n",
       "    }\n",
       "</style>\n",
       "<table border=\"1\" class=\"dataframe\">\n",
       "  <thead>\n",
       "    <tr style=\"text-align: right;\">\n",
       "      <th></th>\n",
       "      <th>CustGender</th>\n",
       "      <th>Generation</th>\n",
       "      <th>BalanceClass</th>\n",
       "      <th>TrAmClass</th>\n",
       "      <th>Similarity</th>\n",
       "    </tr>\n",
       "  </thead>\n",
       "  <tbody>\n",
       "    <tr>\n",
       "      <th>289881</th>\n",
       "      <td>0</td>\n",
       "      <td>11</td>\n",
       "      <td>130</td>\n",
       "      <td>1005</td>\n",
       "      <td>1.0</td>\n",
       "    </tr>\n",
       "    <tr>\n",
       "      <th>803053</th>\n",
       "      <td>0</td>\n",
       "      <td>11</td>\n",
       "      <td>130</td>\n",
       "      <td>1005</td>\n",
       "      <td>1.0</td>\n",
       "    </tr>\n",
       "    <tr>\n",
       "      <th>289885</th>\n",
       "      <td>0</td>\n",
       "      <td>11</td>\n",
       "      <td>130</td>\n",
       "      <td>1005</td>\n",
       "      <td>1.0</td>\n",
       "    </tr>\n",
       "    <tr>\n",
       "      <th>313858</th>\n",
       "      <td>0</td>\n",
       "      <td>11</td>\n",
       "      <td>130</td>\n",
       "      <td>1005</td>\n",
       "      <td>1.0</td>\n",
       "    </tr>\n",
       "    <tr>\n",
       "      <th>118222</th>\n",
       "      <td>0</td>\n",
       "      <td>11</td>\n",
       "      <td>130</td>\n",
       "      <td>1005</td>\n",
       "      <td>1.0</td>\n",
       "    </tr>\n",
       "  </tbody>\n",
       "</table>\n",
       "</div>\n",
       "    </div>"
      ],
      "text/plain": [
       "query_submitted\n",
       "    CustGender Generation BalanceClass TrAmClass\n",
       "10           0         11          130      1005\n",
       "\n",
       "similar_user_to_q\n",
       "        CustGender Generation BalanceClass TrAmClass  Similarity\n",
       "289881           0         11          130      1005         1.0\n",
       "803053           0         11          130      1005         1.0\n",
       "289885           0         11          130      1005         1.0\n",
       "313858           0         11          130      1005         1.0\n",
       "118222           0         11          130      1005         1.0"
      ]
     },
     "execution_count": 30,
     "metadata": {},
     "output_type": "execute_result"
    }
   ],
   "source": [
    "user_query = 10\n",
    "n = 5\n",
    "similar_user_to_q = find_similar(user_query, n)\n",
    "query_submitted = sub_query[user_query:user_query+1]\n",
    "display('query_submitted', 'similar_user_to_q')"
   ]
  },
  {
   "cell_type": "markdown",
   "id": "cf31ecd4-9f97-4c5a-8bd3-45341f9425d9",
   "metadata": {},
   "source": [
    "***\n",
    "- Example 3:"
   ]
  },
  {
   "cell_type": "code",
   "execution_count": 32,
   "id": "adcbadb9-eb60-44a1-ac09-a4f4877b2de2",
   "metadata": {},
   "outputs": [
    {
     "data": {
      "text/html": [
       "<div style=\"float: left; padding: 10px;\">\n",
       "    <p style='font-family:\"Courier New\", Courier, monospace'>query_submitted</p><div>\n",
       "<style scoped>\n",
       "    .dataframe tbody tr th:only-of-type {\n",
       "        vertical-align: middle;\n",
       "    }\n",
       "\n",
       "    .dataframe tbody tr th {\n",
       "        vertical-align: top;\n",
       "    }\n",
       "\n",
       "    .dataframe thead th {\n",
       "        text-align: right;\n",
       "    }\n",
       "</style>\n",
       "<table border=\"1\" class=\"dataframe\">\n",
       "  <thead>\n",
       "    <tr style=\"text-align: right;\">\n",
       "      <th></th>\n",
       "      <th>CustGender</th>\n",
       "      <th>Generation</th>\n",
       "      <th>BalanceClass</th>\n",
       "      <th>TrAmClass</th>\n",
       "    </tr>\n",
       "  </thead>\n",
       "  <tbody>\n",
       "    <tr>\n",
       "      <th>44</th>\n",
       "      <td>0</td>\n",
       "      <td>12</td>\n",
       "      <td>192</td>\n",
       "      <td>1005</td>\n",
       "    </tr>\n",
       "  </tbody>\n",
       "</table>\n",
       "</div>\n",
       "    </div>\n",
       "<div style=\"float: left; padding: 10px;\">\n",
       "    <p style='font-family:\"Courier New\", Courier, monospace'>similar_user_to_q</p><div>\n",
       "<style scoped>\n",
       "    .dataframe tbody tr th:only-of-type {\n",
       "        vertical-align: middle;\n",
       "    }\n",
       "\n",
       "    .dataframe tbody tr th {\n",
       "        vertical-align: top;\n",
       "    }\n",
       "\n",
       "    .dataframe thead th {\n",
       "        text-align: right;\n",
       "    }\n",
       "</style>\n",
       "<table border=\"1\" class=\"dataframe\">\n",
       "  <thead>\n",
       "    <tr style=\"text-align: right;\">\n",
       "      <th></th>\n",
       "      <th>CustGender</th>\n",
       "      <th>Generation</th>\n",
       "      <th>BalanceClass</th>\n",
       "      <th>TrAmClass</th>\n",
       "      <th>Similarity</th>\n",
       "    </tr>\n",
       "  </thead>\n",
       "  <tbody>\n",
       "    <tr>\n",
       "      <th>746392</th>\n",
       "      <td>0</td>\n",
       "      <td>12</td>\n",
       "      <td>192</td>\n",
       "      <td>1005</td>\n",
       "      <td>1.0</td>\n",
       "    </tr>\n",
       "    <tr>\n",
       "      <th>496328</th>\n",
       "      <td>0</td>\n",
       "      <td>12</td>\n",
       "      <td>192</td>\n",
       "      <td>1005</td>\n",
       "      <td>1.0</td>\n",
       "    </tr>\n",
       "    <tr>\n",
       "      <th>465810</th>\n",
       "      <td>0</td>\n",
       "      <td>12</td>\n",
       "      <td>192</td>\n",
       "      <td>1005</td>\n",
       "      <td>1.0</td>\n",
       "    </tr>\n",
       "    <tr>\n",
       "      <th>461470</th>\n",
       "      <td>0</td>\n",
       "      <td>12</td>\n",
       "      <td>192</td>\n",
       "      <td>1005</td>\n",
       "      <td>1.0</td>\n",
       "    </tr>\n",
       "    <tr>\n",
       "      <th>878796</th>\n",
       "      <td>0</td>\n",
       "      <td>12</td>\n",
       "      <td>192</td>\n",
       "      <td>1005</td>\n",
       "      <td>1.0</td>\n",
       "    </tr>\n",
       "    <tr>\n",
       "      <th>494199</th>\n",
       "      <td>0</td>\n",
       "      <td>12</td>\n",
       "      <td>192</td>\n",
       "      <td>1005</td>\n",
       "      <td>1.0</td>\n",
       "    </tr>\n",
       "    <tr>\n",
       "      <th>509574</th>\n",
       "      <td>0</td>\n",
       "      <td>12</td>\n",
       "      <td>192</td>\n",
       "      <td>1005</td>\n",
       "      <td>1.0</td>\n",
       "    </tr>\n",
       "    <tr>\n",
       "      <th>44068</th>\n",
       "      <td>0</td>\n",
       "      <td>12</td>\n",
       "      <td>192</td>\n",
       "      <td>1005</td>\n",
       "      <td>1.0</td>\n",
       "    </tr>\n",
       "    <tr>\n",
       "      <th>116105</th>\n",
       "      <td>0</td>\n",
       "      <td>12</td>\n",
       "      <td>192</td>\n",
       "      <td>1005</td>\n",
       "      <td>1.0</td>\n",
       "    </tr>\n",
       "    <tr>\n",
       "      <th>419932</th>\n",
       "      <td>0</td>\n",
       "      <td>12</td>\n",
       "      <td>192</td>\n",
       "      <td>1005</td>\n",
       "      <td>1.0</td>\n",
       "    </tr>\n",
       "  </tbody>\n",
       "</table>\n",
       "</div>\n",
       "    </div>"
      ],
      "text/plain": [
       "query_submitted\n",
       "    CustGender Generation BalanceClass TrAmClass\n",
       "44           0         12          192      1005\n",
       "\n",
       "similar_user_to_q\n",
       "        CustGender Generation BalanceClass TrAmClass  Similarity\n",
       "746392           0         12          192      1005         1.0\n",
       "496328           0         12          192      1005         1.0\n",
       "465810           0         12          192      1005         1.0\n",
       "461470           0         12          192      1005         1.0\n",
       "878796           0         12          192      1005         1.0\n",
       "494199           0         12          192      1005         1.0\n",
       "509574           0         12          192      1005         1.0\n",
       "44068            0         12          192      1005         1.0\n",
       "116105           0         12          192      1005         1.0\n",
       "419932           0         12          192      1005         1.0"
      ]
     },
     "execution_count": 32,
     "metadata": {},
     "output_type": "execute_result"
    }
   ],
   "source": [
    "user_query = 40\n",
    "n = 10\n",
    "similar_user_to_q = find_similar(user_query, n)\n",
    "query_submitted = sub_query[user_query:user_query+1]\n",
    "display('query_submitted', 'similar_user_to_q')"
   ]
  },
  {
   "cell_type": "markdown",
   "id": "3482849a-6b4d-47e2-9df7-4ec94a055828",
   "metadata": {},
   "source": [
    "We can say that our algorithm works properly, for each example it has returned the supposed results."
   ]
  },
  {
   "cell_type": "markdown",
   "id": "267e3e11-959e-49b0-adc8-8f552d2b1a9c",
   "metadata": {},
   "source": [
    "***\n",
    "\n",
    "### 2. Grouping customers together!\n",
    "\n",
    "Now we will deal with clustering algorithms that will provide groups of clients which are similar among them.\n",
    "\n",
    "To solve this task, you must accomplish the following stages:\n",
    "\n",
    "#### 2.1 Getting your data + feature engineering\n",
    "\n",
    "1. Access to the data found in [this dataset](https://www.kaggle.com/datasets/shivamb/bank-customer-segmentation) (it is the same dataset from the previous question 1.1).\n",
    "\n",
    "2. Sometimes, the features (variables, fields) are not given in a dataset but can be created from it. The previous step is known as feature engineering. For example, the original dataset has several transactions done by the same customer. Then, we ask you to group data by the client (using CustomerId) and, based on it, create the following new features for each CustomerId: \\\n",
    "a) Number of transactions \\\n",
    "b) Number of transactions with a balance bigger than 100 USD\n",
    "c) Average amount of the transactions\n",
    "d) Average balance\n",
    "e) Average difference between the balance and the transaction amount for each customer (this is mainly known in the banking world as utilisation).\n",
    "f) Gender of the customer\n",
    "h) Most frequent location of the customer\n",
    "\n",
    "So, in the end, you should have for each CustomerID seven features."
   ]
  },
  {
   "cell_type": "code",
   "execution_count": 13,
   "id": "b46a71a6-6362-4a0f-a6c2-3ac83265f33d",
   "metadata": {},
   "outputs": [],
   "source": []
  },
  {
   "cell_type": "markdown",
   "id": "73634d50-1d66-463e-ae31-0917adf9ec00",
   "metadata": {},
   "source": [
    "3. Consider at least 20 additional features that can be generated for each CustomerId. Describe each of them and why you believe they will be helpful. Moreover, add it to the previous dataset (the one with seven features). In the end, you should have for each CustomerID at least 27 features (7 recommended + 20 suggested by you).\n",
    "\n",
    "_Hints for feature engineering:_"
   ]
  },
  {
   "cell_type": "raw",
   "id": "ade2e67f-8412-480a-a098-6b70fb12d309",
   "metadata": {},
   "source": [
    "- Instead of only using the average, you could use other functions such as minimum, maximum, percentiles, etc.\n",
    "- Think of adding filters to your features. For instance, in \"Number of transactions with balance bigger than 100 USD”, \n",
    "  the filter was \"bigger than 100 USD\". Can you think about other filters, even including other variables?\n",
    "- Think of including the information given by the fields transaction date and time in your calculations.\n",
    "- Think about getting information from a customer’s birthday, even comparing it to other fields.\n",
    "- You could also calculate percentages in your features. Think of a plausible set of percentages worth to be calculated."
   ]
  },
  {
   "cell_type": "code",
   "execution_count": null,
   "id": "f2c4c6fd-3919-4550-b981-ad81dbbf09fb",
   "metadata": {},
   "outputs": [],
   "source": []
  },
  {
   "cell_type": "markdown",
   "id": "3c0e758d-0fbe-42a1-9c5b-e6b939b21e3a",
   "metadata": {},
   "source": [
    "***\n",
    "\n",
    "#### 2.2 Choose your features (variables)!\n",
    "As you may notice, you have plenty of features to work with now. So, you need to find a way to reduce the dimensionality (reduce the number of variables to work with). You can follow the subsequent directions to achieve it:\n",
    "\n",
    "1. To normalise or not to normalise? That's the question. Sometimes it is worth normalising (scaling) the features. Explain if it is a good idea to perform any normalisation method. If you think the normalisation should be used, apply it to your data (look at the available normalisation functions in the scikit-learn library).\n",
    "\n",
    "2. Select one method for dimensionality reduction and apply it to your data. Some suggestions are Principal Component Analysis, Multiple Correspondence Analysis, Singular Value Decomposition, Factor Analysis for Mixed Data, Two-Steps clustering. Make sure that the method you choose applies to the features you have or modify your data to be able to use it. Explain why you chose that method and the limitations it may have.\n",
    "\n",
    "3. Apply the selected method(s) to your data. Ensure the chosen method retains > 70% of the total variance.\n",
    "\n",
    "***"
   ]
  },
  {
   "cell_type": "code",
   "execution_count": null,
   "id": "15e48faf-1c72-4861-bd66-144bf011a1e0",
   "metadata": {},
   "outputs": [],
   "source": []
  },
  {
   "cell_type": "markdown",
   "id": "5199b3ba-fb02-4a7c-bae1-b10fb7323350",
   "metadata": {
    "tags": []
   },
   "source": [
    "***\n",
    "\n",
    "#### 2.3 Clustering!\n",
    "\n",
    "1. Implement the K-means clustering algorithm (not ++: random initialization). We ask you to write the algorithm from scratch following what you learned in class. !! We also ask you to use MapReduce in your K-means algorithm.\n",
    "\n",
    "***"
   ]
  },
  {
   "cell_type": "markdown",
   "id": "6543cfcf-b626-40cd-b48f-e5d88e608911",
   "metadata": {},
   "source": [
    "As a first step we import PySpark and create the working environment:"
   ]
  },
  {
   "cell_type": "code",
   "execution_count": null,
   "id": "da6059d7-46da-4b4c-a7ea-29234da48117",
   "metadata": {},
   "outputs": [],
   "source": [
    "!pip install pyspark"
   ]
  },
  {
   "cell_type": "code",
   "execution_count": 23,
   "id": "5b3b2cda-f559-48af-adaf-7f6ff9e796c3",
   "metadata": {},
   "outputs": [],
   "source": [
    "import pyspark\n",
    "from pyspark.sql import SparkSession"
   ]
  },
  {
   "cell_type": "code",
   "execution_count": 25,
   "id": "36167b92-a710-48e5-91b4-fdc3ca07cd4e",
   "metadata": {},
   "outputs": [
    {
     "data": {
      "text/html": [
       "\n",
       "            <div>\n",
       "                <p><b>SparkSession - in-memory</b></p>\n",
       "                \n",
       "        <div>\n",
       "            <p><b>SparkContext</b></p>\n",
       "\n",
       "            <p><a href=\"http://mbp-di-andrea-4.home-life.hub:4040\">Spark UI</a></p>\n",
       "\n",
       "            <dl>\n",
       "              <dt>Version</dt>\n",
       "                <dd><code>v3.3.1</code></dd>\n",
       "              <dt>Master</dt>\n",
       "                <dd><code>local[*]</code></dd>\n",
       "              <dt>AppName</dt>\n",
       "                <dd><code>kmeans</code></dd>\n",
       "            </dl>\n",
       "        </div>\n",
       "        \n",
       "            </div>\n",
       "        "
      ],
      "text/plain": [
       "<pyspark.sql.session.SparkSession at 0x7ff4ee7bb8b0>"
      ]
     },
     "execution_count": 25,
     "metadata": {},
     "output_type": "execute_result"
    }
   ],
   "source": [
    "spark = SparkSession.builder.appName('kmeans').getOrCreate()\n",
    "spark"
   ]
  },
  {
   "cell_type": "code",
   "execution_count": 26,
   "id": "193c8029-4f69-4375-8430-affef2525bce",
   "metadata": {},
   "outputs": [
    {
     "data": {
      "text/html": [
       "\n",
       "        <div>\n",
       "            <p><b>SparkContext</b></p>\n",
       "\n",
       "            <p><a href=\"http://mbp-di-andrea-4.home-life.hub:4040\">Spark UI</a></p>\n",
       "\n",
       "            <dl>\n",
       "              <dt>Version</dt>\n",
       "                <dd><code>v3.3.1</code></dd>\n",
       "              <dt>Master</dt>\n",
       "                <dd><code>local[*]</code></dd>\n",
       "              <dt>AppName</dt>\n",
       "                <dd><code>kmeans</code></dd>\n",
       "            </dl>\n",
       "        </div>\n",
       "        "
      ],
      "text/plain": [
       "<SparkContext master=local[*] appName=kmeans>"
      ]
     },
     "execution_count": 26,
     "metadata": {},
     "output_type": "execute_result"
    }
   ],
   "source": [
    "sc = spark.sparkContext\n",
    "sc"
   ]
  },
  {
   "cell_type": "markdown",
   "id": "e434c7ae-5b2e-4cb9-8390-a28908e0f612",
   "metadata": {},
   "source": [
    "Let's now define two functions that will be used for the actual algorithm"
   ]
  },
  {
   "cell_type": "code",
   "execution_count": 27,
   "id": "3852f0a1-3a78-4b51-9315-3b83adc1946b",
   "metadata": {},
   "outputs": [],
   "source": [
    "def assign_cluster(x, centroids):\n",
    "    distances = []\n",
    "    for centroid in centroids:\n",
    "        distances.append(np.linalg.norm(np.array(x) - np.array(centroid)))\n",
    "    return (np.argmin(distances), (np.array(x), 1))"
   ]
  },
  {
   "cell_type": "code",
   "execution_count": 28,
   "id": "61cfdb37-1235-434c-907e-f4f1248d5346",
   "metadata": {},
   "outputs": [],
   "source": [
    "def compute_loss(y, centroid):\n",
    "    loss = np.linalg.norm(np.array(y[1][0])-np.array(centroid[y[0]]))\n",
    "    return loss"
   ]
  },
  {
   "cell_type": "markdown",
   "id": "b0a898f0-7145-4e4f-a761-158a74fce648",
   "metadata": {},
   "source": [
    "__Implementation__ \\\n",
    "As a stopping condition (in addition to the maximum iteration) the algorithm calculates the sum of the distances of each point from its centroid, if from one iteration to another the difference of this sum is less than $\\epsilon$ the algorithm stops."
   ]
  },
  {
   "cell_type": "code",
   "execution_count": 29,
   "id": "efa209e9-c3dd-4bf3-81cb-ebfa5283ef3e",
   "metadata": {},
   "outputs": [],
   "source": [
    "def kmeansPS(X, k, eps=0.001):\n",
    "    # maximum number of iterations allowed\n",
    "    max_iter = 100\n",
    "    # loss_history initialization\n",
    "    loss_history = []\n",
    "    # randomly chosing the initial centroids\n",
    "    centroids = X.rdd.takeSample(False, k)\n",
    "    # repeating the mapping and reducing until convergence or until reaching the max_iter\n",
    "    for iteration in range(max_iter):\n",
    "        # creating the cluster\n",
    "        cluster = X.rdd.map(lambda x: assign_cluster(x, centroids)).collect()\n",
    "        # creating rdd object\n",
    "        cluster_rdd = sc.parallelize(cluster)\n",
    "        # computing the new centroids\n",
    "        centroids = cluster_rdd.reduceByKey(lambda x, y: (x[0]+y[0], x[1]+y[1]))\\\n",
    "            .map(lambda x: x[1][0]/x[1][1]).collect()\n",
    "        # evaluating the distances of every element from their centroid\n",
    "        loss = cluster_rdd.map(lambda x: (x[0], compute_loss(x, centroids)))\\\n",
    "                .groupByKey().mapValues(sum).values().collect()\n",
    "        # summing all the distances in order the use that value as loss\n",
    "        loss_history.append(np.sum(loss))\n",
    "        if iteration > 0:\n",
    "            if loss_history[iteration-1]-loss_history[iteration] < eps:\n",
    "                break\n",
    "    return cluster_rdd.keys().collect(), iteration, loss_history[:-1]"
   ]
  },
  {
   "cell_type": "markdown",
   "id": "d2d9f512-885d-4ce7-9efc-17eb8366fd4b",
   "metadata": {},
   "source": [
    "***\n",
    "\n",
    "2. Find an optimal number of clusters. Use at least two different methods. If your algorithms provide diverse optimal K's, select one of them and explain why you chose it.\n",
    "\n",
    "***"
   ]
  },
  {
   "cell_type": "code",
   "execution_count": 68,
   "id": "0d5c2cc4-d9f1-44b5-b954-9af19fedb5f2",
   "metadata": {},
   "outputs": [
    {
     "data": {
      "text/html": [
       "<div>\n",
       "<style scoped>\n",
       "    .dataframe tbody tr th:only-of-type {\n",
       "        vertical-align: middle;\n",
       "    }\n",
       "\n",
       "    .dataframe tbody tr th {\n",
       "        vertical-align: top;\n",
       "    }\n",
       "\n",
       "    .dataframe thead th {\n",
       "        text-align: right;\n",
       "    }\n",
       "</style>\n",
       "<table border=\"1\" class=\"dataframe\">\n",
       "  <thead>\n",
       "    <tr style=\"text-align: right;\">\n",
       "      <th></th>\n",
       "      <th>principal component 1</th>\n",
       "      <th>principal component 2</th>\n",
       "      <th>principal component 3</th>\n",
       "      <th>principal component 4</th>\n",
       "    </tr>\n",
       "  </thead>\n",
       "  <tbody>\n",
       "    <tr>\n",
       "      <th>0</th>\n",
       "      <td>0.093247</td>\n",
       "      <td>0.517693</td>\n",
       "      <td>-2.828018</td>\n",
       "      <td>5.142994</td>\n",
       "    </tr>\n",
       "    <tr>\n",
       "      <th>1</th>\n",
       "      <td>-0.302120</td>\n",
       "      <td>0.079188</td>\n",
       "      <td>1.183246</td>\n",
       "      <td>-0.415589</td>\n",
       "    </tr>\n",
       "    <tr>\n",
       "      <th>2</th>\n",
       "      <td>-0.072885</td>\n",
       "      <td>-0.235853</td>\n",
       "      <td>-2.823963</td>\n",
       "      <td>4.855833</td>\n",
       "    </tr>\n",
       "    <tr>\n",
       "      <th>3</th>\n",
       "      <td>-0.645638</td>\n",
       "      <td>-0.437641</td>\n",
       "      <td>-2.865409</td>\n",
       "      <td>-1.799603</td>\n",
       "    </tr>\n",
       "    <tr>\n",
       "      <th>4</th>\n",
       "      <td>0.562777</td>\n",
       "      <td>1.514507</td>\n",
       "      <td>1.344398</td>\n",
       "      <td>0.162736</td>\n",
       "    </tr>\n",
       "  </tbody>\n",
       "</table>\n",
       "</div>"
      ],
      "text/plain": [
       "   principal component 1  principal component 2  principal component 3  \\\n",
       "0               0.093247               0.517693              -2.828018   \n",
       "1              -0.302120               0.079188               1.183246   \n",
       "2              -0.072885              -0.235853              -2.823963   \n",
       "3              -0.645638              -0.437641              -2.865409   \n",
       "4               0.562777               1.514507               1.344398   \n",
       "\n",
       "   principal component 4  \n",
       "0               5.142994  \n",
       "1              -0.415589  \n",
       "2               4.855833  \n",
       "3              -1.799603  \n",
       "4               0.162736  "
      ]
     },
     "execution_count": 68,
     "metadata": {},
     "output_type": "execute_result"
    }
   ],
   "source": [
    "df_pca = pd.read_csv('DF_PCA.csv', usecols=['principal component 1', 'principal component 2',\n",
    "                                            'principal component 3', 'principal component 4'])\n",
    "df_pca.head()"
   ]
  },
  {
   "cell_type": "code",
   "execution_count": null,
   "id": "904a2bd1-4ab7-4365-8d2c-692e9ba55e1b",
   "metadata": {},
   "outputs": [],
   "source": [
    "model = KMeans()"
   ]
  },
  {
   "cell_type": "markdown",
   "id": "b59ec129-309a-45fc-8b3f-c475e788f6ca",
   "metadata": {},
   "source": [
    "- __First method: Elbow method__ \\\n",
    "It's a heuristic method used in determining the number of clusters in a data set. It consists of plotting the explained variation as a function of the number of clusters and picking the elbow of the curve as the number of clusters to use."
   ]
  },
  {
   "cell_type": "code",
   "execution_count": 6,
   "id": "af4913ee-c3f2-491c-a72a-0ba088fd33f3",
   "metadata": {},
   "outputs": [
    {
     "data": {
      "image/png": "[encoded data removed]",
      "text/plain": [
       "<Figure size 576x396 with 2 Axes>"
      ]
     },
     "metadata": {},
     "output_type": "display_data"
    },
    {
     "data": {
      "text/plain": [
       "<AxesSubplot:title={'center':'Distortion Score Elbow for KMeans Clustering'}, xlabel='k', ylabel='distortion score'>"
      ]
     },
     "execution_count": 6,
     "metadata": {},
     "output_type": "execute_result"
    }
   ],
   "source": [
    "# k is range of number of clusters.\n",
    "visualizer = KElbowVisualizer(model, k=(2,20), timings= True)\n",
    "visualizer.fit(df_pca)\n",
    "visualizer.show()"
   ]
  },
  {
   "cell_type": "markdown",
   "id": "ac6570f5-5ac4-4a14-a0eb-64cf92b2ea66",
   "metadata": {},
   "source": [
    "- __Second method: Silhouette Coefficient__ \\\n",
    "It's a method of interpretation and validation of consistency within clusters of data. We will have a graphical representation of how well each object has been classified. The silhouette value is a measure of how similar an object is to its own cluster compared to other clusters. \\\n",
    "$$ S(i) = \\frac{b(i)-a(i)}{max\\{a(i),b(i)\\}} $$\n",
    "where: \\\n",
    "$\\implies b(i)$ is the smallest average distance of point i to all points in any other cluster \\\n",
    "$\\implies a(i)$ is the average distance of i from all other points in its cluster \\\n",
    "__Note:__ _For this method and the third one we will use only a sample of the dataset as it is computationally very expensive. The result will therefore be an approximation but by randomly choosing rows from the dataset we should be able to maintain the cluster structure and therefore obtain a satisfactory output._"
   ]
  },
  {
   "cell_type": "code",
   "execution_count": 3,
   "id": "655d8906-0844-4082-95f1-1488adc2ba48",
   "metadata": {},
   "outputs": [],
   "source": [
    "df_pca_sub = df_pca.sample(n=100000)"
   ]
  },
  {
   "cell_type": "code",
   "execution_count": 11,
   "id": "feec3bbc-e38a-4e6c-852b-1ca2087b1de5",
   "metadata": {},
   "outputs": [
    {
     "data": {
      "image/png": "[encoded data removed]",
      "text/plain": [
       "<Figure size 576x396 with 2 Axes>"
      ]
     },
     "metadata": {},
     "output_type": "display_data"
    },
    {
     "data": {
      "text/plain": [
       "<AxesSubplot:title={'center':'Silhouette Score Elbow for KMeans Clustering'}, xlabel='k', ylabel='silhouette score'>"
      ]
     },
     "execution_count": 11,
     "metadata": {},
     "output_type": "execute_result"
    }
   ],
   "source": [
    "visualizer = KElbowVisualizer(model, k=(2,15), metric='silhouette', timings= True)\n",
    "visualizer.fit(df_pca_sub)\n",
    "visualizer.show()"
   ]
  },
  {
   "cell_type": "markdown",
   "id": "5ce54f9b-25ca-40ce-acb5-aa9d543bc110",
   "metadata": {},
   "source": [
    "- __Third method: Calinski-Harabasz Index__ \\\n",
    "It's also called the variance ratio criterion (VRC). The idea is that well-defined clusters have a large between-cluster variance and a small within-cluster variance so the optimal number of clusters corresponds to the solution with the highest Calinski-Harabasz index value.\n",
    "$$ CH(k) = \\frac{B(k)}{W(k)} \\cdot \\frac{n-k}{k-1} $$\n",
    "where: \\\n",
    "$\\implies B(k)=$ between cluster variation \\\n",
    "$\\implies W(k)=$ within cluster variation \\\n",
    "$\\implies n=$ # data point \\\n",
    "$\\implies k=$ # clusters"
   ]
  },
  {
   "cell_type": "code",
   "execution_count": 19,
   "id": "3781989d-365a-4ea0-8d70-fba990e4bdca",
   "metadata": {},
   "outputs": [],
   "source": [
    "plt.rcParams[\"figure.figsize\"] = (10,8)"
   ]
  },
  {
   "cell_type": "code",
   "execution_count": 21,
   "id": "cfac9f1d-abbc-4257-9f15-e977b2ecfe9e",
   "metadata": {},
   "outputs": [
    {
     "data": {
      "image/png": "[encoded data removed]",
      "text/plain": [
       "<Figure size 720x576 with 2 Axes>"
      ]
     },
     "metadata": {},
     "output_type": "display_data"
    },
    {
     "data": {
      "text/plain": [
       "<AxesSubplot:title={'center':'Calinski Harabasz Score Elbow for KMeans Clustering'}, xlabel='k', ylabel='calinski harabasz score'>"
      ]
     },
     "execution_count": 21,
     "metadata": {},
     "output_type": "execute_result"
    }
   ],
   "source": [
    "visualizer = KElbowVisualizer(model, k=(2,15), metric='calinski_harabasz', timings= True)\n",
    "visualizer.fit(df_pca_sub)\n",
    "visualizer.show()"
   ]
  },
  {
   "cell_type": "markdown",
   "id": "eadf43f1-6cdb-4bba-a6c9-6e4b2fbd0608",
   "metadata": {},
   "source": [
    "- __Fourth method: Davies-Bouldin Index__ \\\n",
    "It captures both the separation and compactness of the clusters. This is due to the fact that the measure’s ‘max’ statement repeatedly selects the values where the average point is farthest away from its center, and where the centers are closest together. As DB index falls, the clustering improves.\n",
    "$$ DB= \\frac{1}{n} \\sum_{i=1}^n \\text{max}_{j \\neq i} \\bigg( \\frac{\\sigma_i + \\sigma_j}{d(c_i, c_j)} \\bigg)$$"
   ]
  },
  {
   "cell_type": "code",
   "execution_count": 16,
   "id": "745d42ed-7c20-419a-b780-54d35598d45a",
   "metadata": {},
   "outputs": [],
   "source": [
    "from sklearn.metrics import davies_bouldin_score\n",
    "\n",
    "# function found online\n",
    "def get_kmeans_score(data, center):\n",
    "    '''\n",
    "    returns the kmeans score regarding Davies Bouldin for points to centers\n",
    "    INPUT:\n",
    "        data - the dataset you want to fit kmeans to\n",
    "        center - the number of centers you want (the k value)\n",
    "    OUTPUT:\n",
    "        score - the Davies Bouldin score for the kmeans model fit to the data\n",
    "    '''\n",
    "    #instantiate kmeans\n",
    "    kmeans = KMeans(n_clusters=center)\n",
    "    # Then fit the model to your data using the fit method\n",
    "    model = kmeans.fit_predict(data)\n",
    "    # Calculate Davies Bouldin score\n",
    "    score = davies_bouldin_score(data, model)\n",
    "    return score"
   ]
  },
  {
   "cell_type": "code",
   "execution_count": 22,
   "id": "f90b55bd-061f-4d0e-8228-0dca57f55496",
   "metadata": {},
   "outputs": [
    {
     "data": {
      "image/png": "[encoded data removed]",
      "text/plain": [
       "<Figure size 720x576 with 1 Axes>"
      ]
     },
     "metadata": {
      "needs_background": "light"
     },
     "output_type": "display_data"
    }
   ],
   "source": [
    "scores = []\n",
    "centers = list(range(2,15))\n",
    "for center in centers:\n",
    "    scores.append(get_kmeans_score(df_pca_sub, center))\n",
    "    \n",
    "plt.plot(centers, scores, linestyle='--', marker='o', color='b');\n",
    "plt.xlabel('K');\n",
    "plt.ylabel('Davies Bouldin score');\n",
    "plt.title('Davies Bouldin score vs. K');"
   ]
  },
  {
   "cell_type": "markdown",
   "id": "40ee9d73-e416-4f6d-8976-9156dca4774e",
   "metadata": {},
   "source": [
    "After evaluating the outputs of the 4 implemented methods, we decided to choose k=5. The choice was dictated by the fact that 2 of the 4 implemented methods (including the '_Elbow Method_') suggested this number, which compared with the k=2 of the other methods seemed more appropriate to better discriminate our units."
   ]
  },
  {
   "cell_type": "code",
   "execution_count": 36,
   "id": "e1441a36-0fa3-40ea-91f6-5236ad772b6a",
   "metadata": {},
   "outputs": [],
   "source": [
    "k = 5"
   ]
  },
  {
   "cell_type": "markdown",
   "id": "23661735-b707-4693-bbbb-11a4ac0a9761",
   "metadata": {},
   "source": [
    "***\n",
    "\n",
    "3. Run the algorithm on the data.\n",
    "\n",
    "***"
   ]
  },
  {
   "cell_type": "markdown",
   "id": "c7da1fde-44e3-4056-8bc1-fc1eed24ff1c",
   "metadata": {},
   "source": [
    "Let's first upload the dataset with PySpark:"
   ]
  },
  {
   "cell_type": "code",
   "execution_count": 33,
   "id": "921736c2-0890-4eba-a4e4-2331a6ae6404",
   "metadata": {},
   "outputs": [
    {
     "name": "stdout",
     "output_type": "stream",
     "text": [
      "root\n",
      " |-- PC1: double (nullable = true)\n",
      " |-- PC2: double (nullable = true)\n",
      " |-- PC3: double (nullable = true)\n",
      " |-- PC4: double (nullable = true)\n",
      "\n",
      "+--------------------+--------------------+-------------------+-------------------+\n",
      "|                 PC1|                 PC2|                PC3|                PC4|\n",
      "+--------------------+--------------------+-------------------+-------------------+\n",
      "| 0.09324714423209401|   0.517693341576607| -2.828018023276199|  5.142993720195219|\n",
      "| -0.3021197691816084|  0.0791876022443233|  1.183245634810002|-0.4155886431438997|\n",
      "|-0.07288465849659267|-0.23585314055690207|-2.8239627962081504|  4.855833154369339|\n",
      "| -0.6456377138066474|-0.43764072323284825|-2.8654088617797284| -1.799602604961617|\n",
      "|  0.5627771358254298|  1.5145073344012252|  1.344397932406357|0.16273559650195515|\n",
      "+--------------------+--------------------+-------------------+-------------------+\n",
      "only showing top 5 rows\n",
      "\n"
     ]
    },
    {
     "name": "stderr",
     "output_type": "stream",
     "text": [
      "[Stage 7:=======>                                                   (1 + 7) / 8]\r"
     ]
    },
    {
     "name": "stdout",
     "output_type": "stream",
     "text": [
      "+-------+--------------------+--------------------+--------------------+--------------------+\n",
      "|summary|                 PC1|                 PC2|                 PC3|                 PC4|\n",
      "+-------+--------------------+--------------------+--------------------+--------------------+\n",
      "|  count|              839081|              839081|              839081|              839081|\n",
      "|   mean|-2.24912911408889...|-5.51443102068783...|-1.03886731820943...|-3.27885087716574...|\n",
      "| stddev|  2.8212564189754388|   2.594300475001689|  1.8671728640112228|   1.457225331631105|\n",
      "|    min| -0.7010832173375698| -131.71323610472967|  -5.036474999959094| -10.602257291466843|\n",
      "|    max|  390.78613195734795|   640.5827949774764|   12.20359251518706|  11.670308052632263|\n",
      "+-------+--------------------+--------------------+--------------------+--------------------+\n",
      "\n"
     ]
    },
    {
     "name": "stderr",
     "output_type": "stream",
     "text": [
      "                                                                                \r"
     ]
    }
   ],
   "source": [
    "df_spark = spark.read.csv('DF_PCA.csv', header=True, inferSchema=True)\n",
    "df_spark = df_spark.select(['principal component 1', 'principal component 2',\n",
    "                            'principal component 3', 'principal component 4'])\n",
    "df_spark = df_spark.withColumnRenamed('principal component 1', 'PC1')\n",
    "df_spark = df_spark.withColumnRenamed('principal component 2', 'PC2')\n",
    "df_spark = df_spark.withColumnRenamed('principal component 3', 'PC3')\n",
    "df_spark = df_spark.withColumnRenamed('principal component 4', 'PC4')\n",
    "df_spark.printSchema()\n",
    "df_spark.show(5)\n",
    "df_spark.describe().show()"
   ]
  },
  {
   "cell_type": "markdown",
   "id": "d1160758-5abb-40f6-9a24-c3f6903d6d71",
   "metadata": {},
   "source": [
    "And now let's run our kmeans:"
   ]
  },
  {
   "cell_type": "code",
   "execution_count": 105,
   "id": "6b1546d9-c256-4532-864f-9babaeba467a",
   "metadata": {
    "tags": []
   },
   "outputs": [
    {
     "name": "stdout",
     "output_type": "stream",
     "text": [
      "--- 303.526 seconds ---\n"
     ]
    }
   ],
   "source": [
    "start_time_kmeansPS = time.time()\n",
    "labelsPS, iterations, loss_history = kmeansPS(df_spark, k, eps=0.01)\n",
    "final_time_kmeansPS = round(time.time() - start_time_kmeansPS, 3)\n",
    "print(\"--- %s seconds ---\" % final_time_kmeansPS)"
   ]
  },
  {
   "cell_type": "code",
   "execution_count": 48,
   "id": "4d9847aa-f591-496e-a2d1-c01f05c80717",
   "metadata": {},
   "outputs": [
    {
     "data": {
      "text/plain": [
       "2"
      ]
     },
     "execution_count": 48,
     "metadata": {},
     "output_type": "execute_result"
    }
   ],
   "source": [
    "iterations"
   ]
  },
  {
   "cell_type": "code",
   "execution_count": 50,
   "id": "f68e63ca-bb92-4dc1-81a5-e34a79c55a6f",
   "metadata": {},
   "outputs": [
    {
     "data": {
      "text/plain": [
       "[3392620.5051703965, 2115658.415350829]"
      ]
     },
     "execution_count": 50,
     "metadata": {},
     "output_type": "execute_result"
    }
   ],
   "source": [
    "loss_history"
   ]
  },
  {
   "cell_type": "code",
   "execution_count": 71,
   "id": "71910ec5-7670-41d5-a1b8-89a604898c2b",
   "metadata": {},
   "outputs": [],
   "source": [
    "df_pca['labelsPS'] = labelsPS"
   ]
  },
  {
   "cell_type": "code",
   "execution_count": 72,
   "id": "aeeb83fa-f54b-44ca-b0f2-4b4ad9f1539a",
   "metadata": {},
   "outputs": [
    {
     "data": {
      "text/html": [
       "<div>\n",
       "<style scoped>\n",
       "    .dataframe tbody tr th:only-of-type {\n",
       "        vertical-align: middle;\n",
       "    }\n",
       "\n",
       "    .dataframe tbody tr th {\n",
       "        vertical-align: top;\n",
       "    }\n",
       "\n",
       "    .dataframe thead th {\n",
       "        text-align: right;\n",
       "    }\n",
       "</style>\n",
       "<table border=\"1\" class=\"dataframe\">\n",
       "  <thead>\n",
       "    <tr style=\"text-align: right;\">\n",
       "      <th></th>\n",
       "      <th>principal component 1</th>\n",
       "      <th>principal component 2</th>\n",
       "      <th>principal component 3</th>\n",
       "      <th>principal component 4</th>\n",
       "      <th>labelsPS</th>\n",
       "    </tr>\n",
       "  </thead>\n",
       "  <tbody>\n",
       "    <tr>\n",
       "      <th>0</th>\n",
       "      <td>0.093247</td>\n",
       "      <td>0.517693</td>\n",
       "      <td>-2.828018</td>\n",
       "      <td>5.142994</td>\n",
       "      <td>0</td>\n",
       "    </tr>\n",
       "    <tr>\n",
       "      <th>1</th>\n",
       "      <td>-0.302120</td>\n",
       "      <td>0.079188</td>\n",
       "      <td>1.183246</td>\n",
       "      <td>-0.415589</td>\n",
       "      <td>3</td>\n",
       "    </tr>\n",
       "    <tr>\n",
       "      <th>2</th>\n",
       "      <td>-0.072885</td>\n",
       "      <td>-0.235853</td>\n",
       "      <td>-2.823963</td>\n",
       "      <td>4.855833</td>\n",
       "      <td>0</td>\n",
       "    </tr>\n",
       "    <tr>\n",
       "      <th>3</th>\n",
       "      <td>-0.645638</td>\n",
       "      <td>-0.437641</td>\n",
       "      <td>-2.865409</td>\n",
       "      <td>-1.799603</td>\n",
       "      <td>4</td>\n",
       "    </tr>\n",
       "    <tr>\n",
       "      <th>4</th>\n",
       "      <td>0.562777</td>\n",
       "      <td>1.514507</td>\n",
       "      <td>1.344398</td>\n",
       "      <td>0.162736</td>\n",
       "      <td>2</td>\n",
       "    </tr>\n",
       "  </tbody>\n",
       "</table>\n",
       "</div>"
      ],
      "text/plain": [
       "   principal component 1  principal component 2  principal component 3  \\\n",
       "0               0.093247               0.517693              -2.828018   \n",
       "1              -0.302120               0.079188               1.183246   \n",
       "2              -0.072885              -0.235853              -2.823963   \n",
       "3              -0.645638              -0.437641              -2.865409   \n",
       "4               0.562777               1.514507               1.344398   \n",
       "\n",
       "   principal component 4  labelsPS  \n",
       "0               5.142994         0  \n",
       "1              -0.415589         3  \n",
       "2               4.855833         0  \n",
       "3              -1.799603         4  \n",
       "4               0.162736         2  "
      ]
     },
     "execution_count": 72,
     "metadata": {},
     "output_type": "execute_result"
    }
   ],
   "source": [
    "df_pca.head()"
   ]
  },
  {
   "cell_type": "markdown",
   "id": "e9269f70-a9b8-45e8-be28-d10a7786750f",
   "metadata": {},
   "source": [
    "***\n",
    "\n",
    "4. Then, use the already implemented version of K-means++ (from the scikit-learn library). Explain the differences (if there are any) in the results.\n",
    "\n",
    "***"
   ]
  },
  {
   "cell_type": "code",
   "execution_count": 106,
   "id": "13c8b5c2-1be7-41b6-99a9-5f1b9fa07cda",
   "metadata": {},
   "outputs": [
    {
     "name": "stdout",
     "output_type": "stream",
     "text": [
      "--- 3.553 seconds ---\n"
     ]
    }
   ],
   "source": [
    "start_time_kmeans = time.time()\n",
    "kmeans = KMeans(n_clusters=k, init='k-means++').fit(df_pca[['principal component 1', 'principal component 2',\n",
    "                            'principal component 3', 'principal component 4']])\n",
    "labelsKmeans = kmeans.labels_\n",
    "final_time_kmeans = round(time.time() - start_time_kmeans, 3)\n",
    "print(\"--- %s seconds ---\" % final_time_kmeans)"
   ]
  },
  {
   "cell_type": "code",
   "execution_count": 100,
   "id": "5970ccb6-c69a-4ead-9907-87c2a8a92e0e",
   "metadata": {},
   "outputs": [
    {
     "data": {
      "text/html": [
       "<div>\n",
       "<style scoped>\n",
       "    .dataframe tbody tr th:only-of-type {\n",
       "        vertical-align: middle;\n",
       "    }\n",
       "\n",
       "    .dataframe tbody tr th {\n",
       "        vertical-align: top;\n",
       "    }\n",
       "\n",
       "    .dataframe thead th {\n",
       "        text-align: right;\n",
       "    }\n",
       "</style>\n",
       "<table border=\"1\" class=\"dataframe\">\n",
       "  <thead>\n",
       "    <tr style=\"text-align: right;\">\n",
       "      <th></th>\n",
       "      <th>principal component 1</th>\n",
       "      <th>principal component 2</th>\n",
       "      <th>principal component 3</th>\n",
       "      <th>principal component 4</th>\n",
       "      <th>labelsPS</th>\n",
       "      <th>labelsKmeans++</th>\n",
       "    </tr>\n",
       "  </thead>\n",
       "  <tbody>\n",
       "    <tr>\n",
       "      <th>0</th>\n",
       "      <td>0.093247</td>\n",
       "      <td>0.517693</td>\n",
       "      <td>-2.828018</td>\n",
       "      <td>5.142994</td>\n",
       "      <td>0</td>\n",
       "      <td>3</td>\n",
       "    </tr>\n",
       "    <tr>\n",
       "      <th>1</th>\n",
       "      <td>-0.302120</td>\n",
       "      <td>0.079188</td>\n",
       "      <td>1.183246</td>\n",
       "      <td>-0.415589</td>\n",
       "      <td>3</td>\n",
       "      <td>0</td>\n",
       "    </tr>\n",
       "    <tr>\n",
       "      <th>2</th>\n",
       "      <td>-0.072885</td>\n",
       "      <td>-0.235853</td>\n",
       "      <td>-2.823963</td>\n",
       "      <td>4.855833</td>\n",
       "      <td>0</td>\n",
       "      <td>3</td>\n",
       "    </tr>\n",
       "    <tr>\n",
       "      <th>3</th>\n",
       "      <td>-0.645638</td>\n",
       "      <td>-0.437641</td>\n",
       "      <td>-2.865409</td>\n",
       "      <td>-1.799603</td>\n",
       "      <td>4</td>\n",
       "      <td>1</td>\n",
       "    </tr>\n",
       "    <tr>\n",
       "      <th>4</th>\n",
       "      <td>0.562777</td>\n",
       "      <td>1.514507</td>\n",
       "      <td>1.344398</td>\n",
       "      <td>0.162736</td>\n",
       "      <td>2</td>\n",
       "      <td>0</td>\n",
       "    </tr>\n",
       "  </tbody>\n",
       "</table>\n",
       "</div>"
      ],
      "text/plain": [
       "   principal component 1  principal component 2  principal component 3  \\\n",
       "0               0.093247               0.517693              -2.828018   \n",
       "1              -0.302120               0.079188               1.183246   \n",
       "2              -0.072885              -0.235853              -2.823963   \n",
       "3              -0.645638              -0.437641              -2.865409   \n",
       "4               0.562777               1.514507               1.344398   \n",
       "\n",
       "   principal component 4  labelsPS  labelsKmeans++  \n",
       "0               5.142994         0               3  \n",
       "1              -0.415589         3               0  \n",
       "2               4.855833         0               3  \n",
       "3              -1.799603         4               1  \n",
       "4               0.162736         2               0  "
      ]
     },
     "execution_count": 100,
     "metadata": {},
     "output_type": "execute_result"
    }
   ],
   "source": [
    "df_pca['labelsKmeans++'] = labelsKmeans\n",
    "with open(\"df_kmeans.pkl\", \"wb\") as file:\n",
    "    pickle.dump(df_pca, file)\n",
    "df_pca.head()"
   ]
  },
  {
   "cell_type": "code",
   "execution_count": 101,
   "id": "2a7d8691-a95c-4b57-8981-42ace31b7a22",
   "metadata": {},
   "outputs": [
    {
     "name": "stdout",
     "output_type": "stream",
     "text": [
      "kmeansSpark | #cluster0: 57350\n",
      "kmeans++ | #cluster0: 574664\n",
      "kmeansSpark | #cluster1: 32604\n",
      "kmeans++ | #cluster1: 204574\n",
      "kmeansSpark | #cluster2: 245517\n",
      "kmeans++ | #cluster2: 117\n",
      "kmeansSpark | #cluster3: 303611\n",
      "kmeans++ | #cluster3: 56802\n",
      "kmeansSpark | #cluster4: 199999\n",
      "kmeans++ | #cluster4: 2924\n"
     ]
    }
   ],
   "source": [
    "for i in range(k):\n",
    "    print(f'kmeansSpark | #cluster{i}: {np.sum(df_pca[\"labelsPS\"]==i)}')\n",
    "    print(f'kmeans++ | #cluster{i}: {np.sum(df_pca[\"labelsKmeans++\"]==i)}')"
   ]
  },
  {
   "cell_type": "markdown",
   "id": "35c8a785-2e97-42d5-a776-b31fb48cd17f",
   "metadata": {},
   "source": [
    "Let's compute the _adjusted_rand_score_, it computes a similarity measure between two clusterings by considering all pairs of samples and counting pairs that are assigned in the same or different clusters in the predicted and true clusterings"
   ]
  },
  {
   "cell_type": "code",
   "execution_count": 103,
   "id": "d2e44faa-1eb6-4397-8939-f184b76803fd",
   "metadata": {},
   "outputs": [
    {
     "name": "stdout",
     "output_type": "stream",
     "text": [
      "Classification similarity: 50.4%\n"
     ]
    }
   ],
   "source": [
    "print(f'Classification similarity: {round(adjusted_rand_score(df_pca[\"labelsPS\"], df_pca[\"labelsKmeans++\"]),3)*100}%')"
   ]
  },
  {
   "cell_type": "markdown",
   "id": "6412b2b2-4737-4d16-964e-101f4159454c",
   "metadata": {},
   "source": [
    "Through the adjusted rand score we can see that the kmeans implemented by us and the kmeans++ present in the sklearn library have classified 50% of the data in the same way and that the kmeans++ tends to create smaller clusters than those of our algorithm. \n",
    "\n",
    "Comparing the times we can also see how kmeans++ is much faster, this is caused not only by our non-optimal implementation of the algorithm but also by the fact that we are not exploiting the potential of PySpark and MapReduce as we cannot run the algorithm in parallel on multiple machines."
   ]
  },
  {
   "cell_type": "code",
   "execution_count": 108,
   "id": "faf541d1-36d9-429f-834d-77e9cc90da5b",
   "metadata": {},
   "outputs": [
    {
     "name": "stdout",
     "output_type": "stream",
     "text": [
      "Our kmeans: 303.526 seconds\n",
      "kmeans++: 3.553 seconds\n"
     ]
    }
   ],
   "source": [
    "print(\"Our kmeans: %s seconds\" % final_time_kmeansPS)\n",
    "print(\"kmeans++: %s seconds\" % final_time_kmeans)"
   ]
  },
  {
   "cell_type": "code",
   "execution_count": 34,
   "id": "5801ed13-ca7a-4d91-87be-27af6f9ba95e",
   "metadata": {},
   "outputs": [],
   "source": [
    "with open(\"df_kmeans.pkl\", \"rb\") as file:\n",
    "    df_kmeans = pickle.load(file)\n",
    "df_kmeans_sub = df_kmeans.sample(n=10000)"
   ]
  },
  {
   "cell_type": "code",
   "execution_count": 35,
   "id": "782a08c4-c763-44b8-af21-db5580a8c6b0",
   "metadata": {},
   "outputs": [
    {
     "data": {
      "image/png": "[encoded data removed]",
      "text/plain": [
       "<Figure size 864x720 with 1 Axes>"
      ]
     },
     "metadata": {},
     "output_type": "display_data"
    }
   ],
   "source": [
    "plt.rcParams[\"figure.figsize\"] = (12, 10)\n",
    "plot = sns.scatterplot(data=df_kmeans_sub, x=\"principal component 1\", y=\"principal component 2\",\n",
    "                hue=\"labelsPS\", style=\"labelsKmeans++\", palette=\"pastel\")\n",
    "plot.axes.set_title(\"Classification based on our kMeans and kMeans++\", fontsize=20)\n",
    "plot.set_xlim(0.001, 100)\n",
    "plot.set_ylim(0.001, 50)\n",
    "plot.set(xscale=\"log\", yscale=\"log\")\n",
    "plt.show()"
   ]
  },
  {
   "cell_type": "markdown",
   "id": "98bdc81b-e094-469c-8c20-2f63490c9905",
   "metadata": {},
   "source": [
    "This plot is used to show (only taking the first two principal components) if the labels assigned by our kmeans (represented by the different colors) match with the labels assigned by kmeans++ (represented by the different shapes of the points). Only 10.000 rows were randomly extracted from the entire dataset and it was chosen to use the logarithmic scale to facilitate a visualization that would otherwise have been too confusing. We see that in many cases the labels match but as we have seen through the adjusted rand score these matches reach just over 50%."
   ]
  },
  {
   "cell_type": "markdown",
   "id": "104149cb-bed3-44e0-b6d7-bcde606c18f7",
   "metadata": {},
   "source": [
    "***\n",
    "\n",
    "#### 2.4 Analysing your results!\n",
    "\n",
    "You are often encouraged to explain the main characteristics that your clusters have. This is called the Characterizing Clusters step. Thus, follow the next steps to do it:\n",
    "\n",
    "1. Select 2-3 variables you think are relevant to identify the cluster of the customer. For example, CustGender, Number of transactions, etc.\n",
    "\n",
    "2. Most of your selected variables will be numerical (continuous or discrete), then categorise them into four categories.\n",
    "\n",
    "3. With the selected variables, perform pivot tables. On the horizontal axis, you will have the clusters, and on the vertical axis, you will have the categories of each variable. Notice that you have to do one pivot table per variable.\n",
    "\n",
    "4. Calculate the percentage by column for each pivot table. The sum of each row (cluster) must be 100. The sample example for clustering with K = 4 and Gender variable:\n",
    "\n",
    "5. Interpret the results for each pivot table.\n",
    "\n",
    "6. Use any known metrics to estimate clustering algorithm performance (how good are the clusters you found?).\n",
    "\n",
    "#### IMPORTANT NOTE:\n",
    "\n",
    "- We know you may consult the internet for information about implementing the requested algorithms. However, the final code must be yours! So please, do not search and copy-paste the code.\n",
    "\n",
    "- Since we know that some of the previous points can raise many questions, opening a thread on Slack is recommended and welcomed.\n",
    "\n",
    "- Unfortunately, there are no explicit descriptions of the features in the data sets. Nevertheless, the names are usually self-explanatory. In case you have any doubt, Google will help you better understand the characteristics of a bank's customer."
   ]
  },
  {
   "cell_type": "code",
   "execution_count": null,
   "id": "6eed1ef8-d3e5-4d6b-a152-53a9f9c49805",
   "metadata": {},
   "outputs": [],
   "source": []
  },
  {
   "cell_type": "markdown",
   "id": "7194defa-1a93-4ea9-bf24-3daace189a09",
   "metadata": {},
   "source": [
    "### Bonus\n",
    "\n",
    "We remind you that we consider and grade the bonuses only if you complete the entire assignment.\n",
    "\n",
    "1. Think about any two other clustering algorithms that you would like to use for the dataset (of course, you can use implemented version of them, e.g. from the scikit-learn library). Compare the results of chosen two algorithms with K-means implemented by you and K-means++ (from the scikit-learn library). Explain the differences (if there are any) in the results. Which one is the best, in your opinion, and why?"
   ]
  },
  {
   "cell_type": "code",
   "execution_count": 2,
   "id": "bf3376cb-1a14-4287-b86c-9abe31a9ef92",
   "metadata": {},
   "outputs": [],
   "source": [
    "with open(\"df_kmeans.pkl\", \"rb\") as file:\n",
    "    df_kmeans = pickle.load(file)\n",
    "df_kmeans_sub = df_kmeans.sample(n=100000)"
   ]
  },
  {
   "cell_type": "code",
   "execution_count": 3,
   "id": "17e1059c-991a-42a6-9e51-e6275f707a74",
   "metadata": {},
   "outputs": [
    {
     "data": {
      "text/plain": [
       "(100000, 6)"
      ]
     },
     "execution_count": 3,
     "metadata": {},
     "output_type": "execute_result"
    }
   ],
   "source": [
    "df_kmeans_sub.shape"
   ]
  },
  {
   "cell_type": "code",
   "execution_count": 4,
   "id": "c4ce5eff-2553-4f88-b687-6977fca28312",
   "metadata": {},
   "outputs": [],
   "source": [
    "from sklearn.cluster import OPTICS\n",
    "from sklearn.cluster import DBSCAN"
   ]
  },
  {
   "cell_type": "code",
   "execution_count": 29,
   "id": "b3410448-d6ea-4fc7-a13e-05a70f34c624",
   "metadata": {},
   "outputs": [
    {
     "name": "stdout",
     "output_type": "stream",
     "text": [
      "--- 694.361 seconds ---\n"
     ]
    }
   ],
   "source": [
    "start_time_optics = time.time()\n",
    "clustering = OPTICS(n_jobs=-1).fit(df_kmeans_sub[['principal component 1', 'principal component 2',\n",
    "                                       'principal component 3', 'principal component 4']])\n",
    "prova2 = clustering.labels_\n",
    "final_time_optics = round(time.time() - start_time_optics, 3)\n",
    "print(\"--- %s seconds ---\" % final_time_optics)"
   ]
  },
  {
   "cell_type": "code",
   "execution_count": 9,
   "id": "981fa9cc-212a-4139-a0cd-47bd1f8d8ee1",
   "metadata": {},
   "outputs": [
    {
     "name": "stdout",
     "output_type": "stream",
     "text": [
      "--- 54.346 seconds ---\n"
     ]
    }
   ],
   "source": [
    "start_time_dbscan = time.time()\n",
    "clustering = DBSCAN(n_jobs=-1).fit(df_kmeans_sub[['principal component 1', 'principal component 2',\n",
    "                                       'principal component 3', 'principal component 4']])\n",
    "prova = clustering.labels_\n",
    "final_time_dbscan = round(time.time() - start_time_dbscan, 3)\n",
    "print(\"--- %s seconds ---\" % final_time_dbscan)"
   ]
  },
  {
   "cell_type": "code",
   "execution_count": 30,
   "id": "e83bb3fc-dc90-4d10-99f0-d0cc2ce95d81",
   "metadata": {},
   "outputs": [
    {
     "data": {
      "text/html": [
       "<div>\n",
       "<style scoped>\n",
       "    .dataframe tbody tr th:only-of-type {\n",
       "        vertical-align: middle;\n",
       "    }\n",
       "\n",
       "    .dataframe tbody tr th {\n",
       "        vertical-align: top;\n",
       "    }\n",
       "\n",
       "    .dataframe thead th {\n",
       "        text-align: right;\n",
       "    }\n",
       "</style>\n",
       "<table border=\"1\" class=\"dataframe\">\n",
       "  <thead>\n",
       "    <tr style=\"text-align: right;\">\n",
       "      <th></th>\n",
       "      <th>principal component 1</th>\n",
       "      <th>principal component 2</th>\n",
       "      <th>principal component 3</th>\n",
       "      <th>principal component 4</th>\n",
       "      <th>labelsPS</th>\n",
       "      <th>labelsKmeans++</th>\n",
       "      <th>OPTICS</th>\n",
       "      <th>DBSCAN</th>\n",
       "    </tr>\n",
       "  </thead>\n",
       "  <tbody>\n",
       "    <tr>\n",
       "      <th>176454</th>\n",
       "      <td>-0.489761</td>\n",
       "      <td>-0.111212</td>\n",
       "      <td>1.322193</td>\n",
       "      <td>-0.833129</td>\n",
       "      <td>3</td>\n",
       "      <td>0</td>\n",
       "      <td>0</td>\n",
       "      <td>0</td>\n",
       "    </tr>\n",
       "    <tr>\n",
       "      <th>395029</th>\n",
       "      <td>-0.464369</td>\n",
       "      <td>-0.107126</td>\n",
       "      <td>1.375710</td>\n",
       "      <td>-0.838225</td>\n",
       "      <td>3</td>\n",
       "      <td>0</td>\n",
       "      <td>-1</td>\n",
       "      <td>0</td>\n",
       "    </tr>\n",
       "    <tr>\n",
       "      <th>112063</th>\n",
       "      <td>-0.025411</td>\n",
       "      <td>0.332379</td>\n",
       "      <td>1.243614</td>\n",
       "      <td>-0.071601</td>\n",
       "      <td>2</td>\n",
       "      <td>0</td>\n",
       "      <td>-1</td>\n",
       "      <td>0</td>\n",
       "    </tr>\n",
       "    <tr>\n",
       "      <th>662874</th>\n",
       "      <td>-0.388821</td>\n",
       "      <td>0.346185</td>\n",
       "      <td>-2.831576</td>\n",
       "      <td>-2.111520</td>\n",
       "      <td>4</td>\n",
       "      <td>1</td>\n",
       "      <td>2762</td>\n",
       "      <td>1</td>\n",
       "    </tr>\n",
       "    <tr>\n",
       "      <th>477074</th>\n",
       "      <td>-0.649833</td>\n",
       "      <td>-0.527746</td>\n",
       "      <td>1.241697</td>\n",
       "      <td>-0.346390</td>\n",
       "      <td>3</td>\n",
       "      <td>0</td>\n",
       "      <td>489</td>\n",
       "      <td>0</td>\n",
       "    </tr>\n",
       "  </tbody>\n",
       "</table>\n",
       "</div>"
      ],
      "text/plain": [
       "        principal component 1  principal component 2  principal component 3  \\\n",
       "176454              -0.489761              -0.111212               1.322193   \n",
       "395029              -0.464369              -0.107126               1.375710   \n",
       "112063              -0.025411               0.332379               1.243614   \n",
       "662874              -0.388821               0.346185              -2.831576   \n",
       "477074              -0.649833              -0.527746               1.241697   \n",
       "\n",
       "        principal component 4  labelsPS  labelsKmeans++  OPTICS  DBSCAN  \n",
       "176454              -0.833129         3               0       0       0  \n",
       "395029              -0.838225         3               0      -1       0  \n",
       "112063              -0.071601         2               0      -1       0  \n",
       "662874              -2.111520         4               1    2762       1  \n",
       "477074              -0.346390         3               0     489       0  "
      ]
     },
     "execution_count": 30,
     "metadata": {},
     "output_type": "execute_result"
    }
   ],
   "source": [
    "df_kmeans_sub['OPTICS'] = prova2\n",
    "df_kmeans_sub['DBSCAN'] = prova\n",
    "df_kmeans_sub.head()"
   ]
  },
  {
   "cell_type": "code",
   "execution_count": 31,
   "id": "d968742a-89fc-42cf-b95b-86a25b049261",
   "metadata": {},
   "outputs": [],
   "source": [
    "with open(\"df_clusters.pkl\", \"wb\") as file:\n",
    "    pickle.dump(df_kmeans_sub, file)"
   ]
  },
  {
   "cell_type": "code",
   "execution_count": 32,
   "id": "a7ed8f74-350f-4cc3-a6e0-fc9b6ff6f706",
   "metadata": {},
   "outputs": [
    {
     "data": {
      "text/plain": [
       "2957"
      ]
     },
     "execution_count": 32,
     "metadata": {},
     "output_type": "execute_result"
    }
   ],
   "source": [
    "df_kmeans_sub.OPTICS.unique().size"
   ]
  },
  {
   "cell_type": "code",
   "execution_count": 33,
   "id": "f4cace75-3628-4dd6-9630-ac3f7c7dd34d",
   "metadata": {},
   "outputs": [
    {
     "data": {
      "text/plain": [
       "47"
      ]
     },
     "execution_count": 33,
     "metadata": {},
     "output_type": "execute_result"
    }
   ],
   "source": [
    "df_kmeans_sub.DBSCAN.unique().size"
   ]
  },
  {
   "cell_type": "markdown",
   "id": "395fa887-ff15-4979-b043-b13c039ebc7d",
   "metadata": {},
   "source": [
    "After trying all the methods in the cluster section of [sklearn](https://scikit-learn.org/stable/modules/clustering.html), the only two that ran in decent time and didn't blow up the computer were _DBSCAN_ and _OPTICS_. however, it was necessary to reduce the dimensionality of our dataset, in fact a random subset of 100.000 units was taken. \n",
    "\n",
    "The DBSCAN algorithm views clusters as areas of high density separated by areas of low density. Due to this rather generic view, clusters found by DBSCAN can be any shape, as opposed to k-means which assumes that clusters are convex shaped. The central component to the DBSCAN is the concept of core samples, which are samples that are in areas of high density. A cluster is therefore a set of core samples, each close to each other (measured by some distance measure) and a set of non-core samples that are close to a core sample (but are not themselves core samples). There are two parameters to the algorithm, min_samples and eps, which define formally what we mean when we say dense. Higher min_samples or lower eps indicate higher density necessary to form a cluster.\n",
    "\n",
    "The OPTICS algorithm shares many similarities with the DBSCAN algorithm, and can be considered a generalization of DBSCAN that relaxes the eps requirement from a single value to a value range. The key difference between DBSCAN and OPTICS is that the OPTICS algorithm builds a reachability graph, which assigns each sample both a reachability_ distance, and a spot within the cluster ordering_ attribute; these two attributes are assigned when the model is fitted, and are used to determine cluster membership. If OPTICS is run with the default value of inf set for max_eps, then DBSCAN style cluster extraction can be performed repeatedly in linear time for any given eps value using the cluster_optics_dbscan method. Setting max_eps to a lower value will result in shorter run times, and can be thought of as the maximum neighborhood radius from each point to find other potential reachable points.\n",
    "\n",
    "These two methods are known to scale well as the sample size increases as does the kmeans but at least in our case the results were somewhat disappointing given that with a dataset about 9 times smaller they still took much longer than the kmeans runned on the entire dataset. To be precise, the OPTICS took 694 seconds to converge, almost 12 minutes, while the DBSCAN 54 seconds. Times very far from the 3.5 seconds of kmeans++ (run on the whole dataset) and even worse than the 303 seconds (5 minutes) of our kmeans (always run on the whole dataset and without having been able to fully exploit the MapReduce potential). \n",
    "\n",
    "Examining the results, it is then noted that the clusters created are totally different, in both methods implemented it is not possible to choose the number of clusters to be created beforehand, it is the algorithm that chooses. In particular, OPTICS created 2957 clusters, a huge number compared to the 5 we had chosen for kmeans, DBSCAN instead created 47 clusters, still far from the 5 of kmeans but not at extreme levels like the previous method. It is therefore difficult to say which is the method that has created a better clustering, they are based on different decision-making systems and depending on the data structure it may be convenient to choose one over another. In this specific case, however, it seems sensible to conclude that the best method to use is kmeans as it allows us to work on the whole dataset, it is faster and in addition it creates a smaller number of clusters which is more convenient for us to group similar users between of them, it would be of little help indeed to have 2962 usergroups but even with 47 we would not get what we want.\n",
    "\n",
    "***"
   ]
  },
  {
   "cell_type": "markdown",
   "id": "c0ccdf00-9c7f-48ca-b82a-461a4fd43889",
   "metadata": {},
   "source": [
    "### Command Line Question\n",
    "\n",
    "Here is another command line question to enjoy. We previously stated that using the command line tools is a skill that Data Scientists must master.\n",
    "\n",
    "In this question, you should use any command line tools that you know to answer the following questions using the same dataset that you have been using so far:\n",
    "\n",
    "1. Which location has the maximum number of purchases been made?\n",
    "2. In the dataset provided, did females spend more than males, or vice versa?\n",
    "3. Report the customer with the highest average transaction amount in the dataset.\n",
    "\n",
    "__Note__: You may work on this question in any environment (AWS, your PC command line, Jupyter notebook, etc.), but the final script must be placed in CommandLine.sh, which must be executable."
   ]
  },
  {
   "cell_type": "markdown",
   "id": "38f1417c-7e3a-4cad-abed-e3e67216a325",
   "metadata": {},
   "source": [
    "### Algorithmic Question\n",
    "\n",
    "An imaginary university wants to restrict its student’s entrance to the campus. Suppose that there are N entrances, M students and G guards. Due to the security measures, each student is known to be assigned a gate through which they should enter the university.\n",
    "\n",
    "The N entrances will be numbered from 1 to N. Regarding one entry, the entrance will be opened right before the first student’s arrival and closed right after the arrival of the last student that should enter through that specific entrance. We will assume that two students can not enter the university simultaneously. For an entry to be protected, a guard should be assigned to it. Notice that a guard cannot leave his post until the door he was given is closed.\n",
    "\n",
    "Assume that the university's head of the guards knows the order in which the students are coming to the university (yeah, they know you more than you know about yourself!). He wants you to help him if having only G guards is enough to address the restrictions they wish to apply (in other words, whether there will be a moment when more than G entrances should be opened or not).\n",
    "\n",
    "__Input__\n",
    "\n",
    "In the first line, you will be given the values of N, M and G, which correspond to the number of entrances to the university, the number of students in the university and the number of guards that the head of the guards intends to use to apply these restrictions respectively.\n",
    "\n",
    "\\begin{align}\n",
    "1 &\\leq N \\leq 10^6 \\\\\n",
    "1 &\\leq M \\leq 10^3 \\\\\n",
    "1 &\\leq G \\leq 100 \\\\\n",
    "\\end{align}\n",
    "\n",
    "In the second line, you will be given M integers which the ith integer corresponds to the entrance that has been assigned to the ith student to enter the university. Students will enter the university in the same order .\n",
    "\n",
    "__Ouptut:__\n",
    "\n",
    "Output “YES” if having G guards is enough to respect the restrictions, and “NO” if it is not enough.\n",
    "\n",
    "__Examples:__\n",
    "\n",
    "__Input 1__"
   ]
  },
  {
   "cell_type": "raw",
   "id": "9f2bd748-fe31-4b5f-8e72-28143c1f82e5",
   "metadata": {},
   "source": [
    "4 5 1\n",
    "1 1 3 3 3"
   ]
  },
  {
   "cell_type": "markdown",
   "id": "79369773-95db-4d3d-9af2-885164044b8b",
   "metadata": {},
   "source": [
    "__Output 2__"
   ]
  },
  {
   "cell_type": "raw",
   "id": "0b7a26a3-11c3-4d7c-a8db-ae35f1f67c65",
   "metadata": {},
   "source": [
    "YES"
   ]
  },
  {
   "cell_type": "markdown",
   "id": "3d920377-fbb9-4d76-add8-874478cfe1fb",
   "metadata": {},
   "source": [
    "In this example, we only have one guard in the university. Initially, the guard will be assigned to protect entrance 1'. After the second student arrives, the guard will close access ‘1' and go to entrance '3'. In this case, having only one guard is enough to address the restrictions.\n",
    "\n",
    "__Input 2__"
   ]
  },
  {
   "cell_type": "raw",
   "id": "77bfb9bb-107a-4896-b4e2-4d036324cd40",
   "metadata": {},
   "source": [
    "2 5 1 \n",
    "1 2 1 2 2"
   ]
  },
  {
   "cell_type": "markdown",
   "id": "3c430fe4-c9d3-48bb-aeed-85007e2fa133",
   "metadata": {},
   "source": [
    "__Output 2__"
   ]
  },
  {
   "cell_type": "raw",
   "id": "36c17be6-9ef9-4337-9d2a-e5715f56a905",
   "metadata": {},
   "source": [
    "NO"
   ]
  },
  {
   "cell_type": "code",
   "execution_count": null,
   "id": "e0187efe-8930-4d8e-bc5f-85b2a47896b4",
   "metadata": {},
   "outputs": [],
   "source": []
  }
 ],
 "metadata": {
  "kernelspec": {
   "display_name": "Python 3 (ipykernel)",
   "language": "python",
   "name": "python3"
  },
  "language_info": {
   "codemirror_mode": {
    "name": "ipython",
    "version": 3
   },
   "file_extension": ".py",
   "mimetype": "text/x-python",
   "name": "python",
   "nbconvert_exporter": "python",
   "pygments_lexer": "ipython3",
   "version": "3.9.12"
  }
 },
 "nbformat": 4,
 "nbformat_minor": 5
}
